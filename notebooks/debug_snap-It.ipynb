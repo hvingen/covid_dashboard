{
 "cells": [
  {
   "cell_type": "markdown",
   "id": "fe552d34",
   "metadata": {},
   "source": [
    "# 📘 Snap-It Notebook\n",
    "\n",
    "Deze notebook bevat handige hulpfuncties en controles voor het COVID-dashboardproject."
   ]
  },
  {
   "cell_type": "markdown",
   "id": "b48bedf4",
   "metadata": {},
   "source": [
    "## 📦 Data-initialisatie"
   ]
  },
  {
   "cell_type": "code",
   "execution_count": null,
   "id": "26693781-c278-4c1b-bc31-d1ac2899a0c5",
   "metadata": {},
   "outputs": [],
   "source": []
  },
  {
   "cell_type": "code",
   "execution_count": 3,
   "id": "8d09a868-2826-422c-b6a1-2b557bb7a612",
   "metadata": {},
   "outputs": [
    {
     "name": "stdout",
     "output_type": "stream",
     "text": [
      "✅ Root toegevoegd aan sys.path\n",
      "✅ src toegevoegd aan sys.path\n"
     ]
    }
   ],
   "source": [
    "# 📦 Setup paths\n",
    "import sys\n",
    "from pathlib import Path\n",
    "\n",
    "project_root = Path().resolve().parent\n",
    "src_path = project_root / 'src'\n",
    "config_path = project_root / 'config.py'\n",
    "\n",
    "if config_path.exists() and str(project_root) not in sys.path:\n",
    "    sys.path.insert(0, str(project_root))\n",
    "    print('✅ Root toegevoegd aan sys.path')\n",
    "\n",
    "if src_path.exists() and str(src_path) not in sys.path:\n",
    "    sys.path.insert(0, str(src_path))\n",
    "    print('✅ src toegevoegd aan sys.path')\n"
   ]
  },
  {
   "cell_type": "code",
   "execution_count": 4,
   "id": "f49563fe",
   "metadata": {},
   "outputs": [
    {
     "name": "stdout",
     "output_type": "stream",
     "text": [
      "🧠 Actieve Python-interpreter:\n",
      "/opt/anaconda3/bin/python\n",
      "\n",
      "📁 Huidige werkmap:\n",
      "/Users/hvingen/Repositories/Opdracht_2_2025_3a/notebooks\n",
      "\n",
      "📦 Controle op geïnstalleerd package 'src' alias 'covid_dashboard':\n",
      "✅ Het 'src' package is gevonden.\n",
      "⤷ Locatie: /Users/hvingen/Repositories/Opdracht_2_2025_3a/src/__init__.py\n",
      "\n",
      "🧪 Extra tip:\n",
      "Gebruik `!which python` of kijk onder 'Kernel > Change kernel' in Jupyter om de juiste omgeving te kiezen.\n"
     ]
    }
   ],
   "source": [
    "import sys\n",
    "import os\n",
    "from pathlib import Path\n",
    "import importlib.util\n",
    "\n",
    "def check_env():\n",
    "    print(\"🧠 Actieve Python-interpreter:\")\n",
    "    print(sys.executable)\n",
    "    print(\"\\n📁 Huidige werkmap:\")\n",
    "    print(os.getcwd())\n",
    "\n",
    "    print(\"\\n📦 Controle op geïnstalleerd package 'src' alias 'covid_dashboard':\")\n",
    "    spec = importlib.util.find_spec(\"src\")\n",
    "    if spec is None:\n",
    "        print(\"❌ Het 'src' package is niet gevonden. Mogelijk verkeerde kernel actief.\")\n",
    "    else:\n",
    "        print(\"✅ Het 'src' package is gevonden.\")\n",
    "        print(f\"⤷ Locatie: {spec.origin}\")\n",
    "\n",
    "    print(\"\\n🧪 Extra tip:\")\n",
    "    print(\"Gebruik `!which python` of kijk onder 'Kernel > Change kernel' in Jupyter om de juiste omgeving te kiezen.\")\n",
    "\n",
    "# Run de controle\n",
    "check_env()\n"
   ]
  },
  {
   "cell_type": "code",
   "execution_count": 5,
   "id": "cba38927",
   "metadata": {},
   "outputs": [],
   "source": [
    "from data_loader import Dataframes\n",
    "\n",
    "dfs = Dataframes()\n",
    "\n",
    "# 👉 Voorbeeld: volledige dataset ophalen\n",
    "df_full_tab1 = dfs.get_merged_and_clean_dataset()"
   ]
  },
  {
   "cell_type": "markdown",
   "id": "4b156999",
   "metadata": {},
   "source": [
    "## 📊 Data controleren"
   ]
  },
  {
   "cell_type": "code",
   "execution_count": 7,
   "id": "99f6b12e",
   "metadata": {},
   "outputs": [
    {
     "name": "stdout",
     "output_type": "stream",
     "text": [
      "❌ Geen merged dataset geladen.\n"
     ]
    }
   ],
   "source": [
    "# Toon eerste regels df full tab1\n",
    "if df_full_tab1 is not None:\n",
    "    display(df_full_tab1.head())\n",
    "else:\n",
    "    print('❌ Geen merged dataset geladen.')"
   ]
  },
  {
   "cell_type": "markdown",
   "id": "7862cc9f-644b-4263-8ef4-0447eda96116",
   "metadata": {},
   "source": [
    "## 📊 Data controleren"
   ]
  },
  {
   "cell_type": "code",
   "execution_count": 9,
   "id": "71e556f8-9a02-4843-8384-1b7802faf29b",
   "metadata": {
    "scrolled": true
   },
   "outputs": [
    {
     "ename": "DataSourceError",
     "evalue": "data/shapefiles/B1_Provinciegrenzen_van_NederlandPolygon.shp: No such file or directory",
     "output_type": "error",
     "traceback": [
      "\u001b[0;31m---------------------------------------------------------------------------\u001b[0m",
      "\u001b[0;31mDataSourceError\u001b[0m                           Traceback (most recent call last)",
      "Cell \u001b[0;32mIn[9], line 4\u001b[0m\n\u001b[1;32m      2\u001b[0m \u001b[38;5;28;01mfrom\u001b[39;00m \u001b[38;5;21;01mdata_service\u001b[39;00m \u001b[38;5;28;01mimport\u001b[39;00m get_metric_mapping, get_available_years\n\u001b[1;32m      3\u001b[0m \u001b[38;5;28;01mfrom\u001b[39;00m \u001b[38;5;21;01mdata_loader\u001b[39;00m \u001b[38;5;28;01mimport\u001b[39;00m load_province_shapefile\n\u001b[0;32m----> 4\u001b[0m province_gdf \u001b[38;5;241m=\u001b[39m load_province_shapefile()\n\u001b[1;32m      5\u001b[0m \u001b[38;5;28mprint\u001b[39m(province_gdf\u001b[38;5;241m.\u001b[39mhead())\n",
      "File \u001b[0;32m~/Repositories/Opdracht_2_2025_3a/src/data_loader.py:39\u001b[0m, in \u001b[0;36mload_province_shapefile\u001b[0;34m()\u001b[0m\n\u001b[1;32m     37\u001b[0m \u001b[38;5;28;01mdef\u001b[39;00m \u001b[38;5;21mload_province_shapefile\u001b[39m():\n\u001b[1;32m     38\u001b[0m     shapefile_path \u001b[38;5;241m=\u001b[39m SHAPEFILES_DIR \u001b[38;5;241m/\u001b[39m \u001b[38;5;124m\"\u001b[39m\u001b[38;5;124mB1_Provinciegrenzen_van_NederlandPolygon.shp\u001b[39m\u001b[38;5;124m\"\u001b[39m\n\u001b[0;32m---> 39\u001b[0m     \u001b[38;5;28;01mreturn\u001b[39;00m gpd\u001b[38;5;241m.\u001b[39mread_file(shapefile_path)\n",
      "File \u001b[0;32m/opt/anaconda3/lib/python3.11/site-packages/geopandas/io/file.py:294\u001b[0m, in \u001b[0;36m_read_file\u001b[0;34m(filename, bbox, mask, columns, rows, engine, **kwargs)\u001b[0m\n\u001b[1;32m    291\u001b[0m             from_bytes \u001b[38;5;241m=\u001b[39m \u001b[38;5;28;01mTrue\u001b[39;00m\n\u001b[1;32m    293\u001b[0m \u001b[38;5;28;01mif\u001b[39;00m engine \u001b[38;5;241m==\u001b[39m \u001b[38;5;124m\"\u001b[39m\u001b[38;5;124mpyogrio\u001b[39m\u001b[38;5;124m\"\u001b[39m:\n\u001b[0;32m--> 294\u001b[0m     \u001b[38;5;28;01mreturn\u001b[39;00m _read_file_pyogrio(\n\u001b[1;32m    295\u001b[0m         filename, bbox\u001b[38;5;241m=\u001b[39mbbox, mask\u001b[38;5;241m=\u001b[39mmask, columns\u001b[38;5;241m=\u001b[39mcolumns, rows\u001b[38;5;241m=\u001b[39mrows, \u001b[38;5;241m*\u001b[39m\u001b[38;5;241m*\u001b[39mkwargs\n\u001b[1;32m    296\u001b[0m     )\n\u001b[1;32m    298\u001b[0m \u001b[38;5;28;01melif\u001b[39;00m engine \u001b[38;5;241m==\u001b[39m \u001b[38;5;124m\"\u001b[39m\u001b[38;5;124mfiona\u001b[39m\u001b[38;5;124m\"\u001b[39m:\n\u001b[1;32m    299\u001b[0m     \u001b[38;5;28;01mif\u001b[39;00m pd\u001b[38;5;241m.\u001b[39mapi\u001b[38;5;241m.\u001b[39mtypes\u001b[38;5;241m.\u001b[39mis_file_like(filename):\n",
      "File \u001b[0;32m/opt/anaconda3/lib/python3.11/site-packages/geopandas/io/file.py:547\u001b[0m, in \u001b[0;36m_read_file_pyogrio\u001b[0;34m(path_or_bytes, bbox, mask, rows, **kwargs)\u001b[0m\n\u001b[1;32m    538\u001b[0m     warnings\u001b[38;5;241m.\u001b[39mwarn(\n\u001b[1;32m    539\u001b[0m         \u001b[38;5;124m\"\u001b[39m\u001b[38;5;124mThe \u001b[39m\u001b[38;5;124m'\u001b[39m\u001b[38;5;124minclude_fields\u001b[39m\u001b[38;5;124m'\u001b[39m\u001b[38;5;124m and \u001b[39m\u001b[38;5;124m'\u001b[39m\u001b[38;5;124mignore_fields\u001b[39m\u001b[38;5;124m'\u001b[39m\u001b[38;5;124m keywords are deprecated, and \u001b[39m\u001b[38;5;124m\"\u001b[39m\n\u001b[1;32m    540\u001b[0m         \u001b[38;5;124m\"\u001b[39m\u001b[38;5;124mwill be removed in a future release. You can use the \u001b[39m\u001b[38;5;124m'\u001b[39m\u001b[38;5;124mcolumns\u001b[39m\u001b[38;5;124m'\u001b[39m\u001b[38;5;124m keyword \u001b[39m\u001b[38;5;124m\"\u001b[39m\n\u001b[0;32m   (...)\u001b[0m\n\u001b[1;32m    543\u001b[0m         stacklevel\u001b[38;5;241m=\u001b[39m\u001b[38;5;241m3\u001b[39m,\n\u001b[1;32m    544\u001b[0m     )\n\u001b[1;32m    545\u001b[0m     kwargs[\u001b[38;5;124m\"\u001b[39m\u001b[38;5;124mcolumns\u001b[39m\u001b[38;5;124m\"\u001b[39m] \u001b[38;5;241m=\u001b[39m kwargs\u001b[38;5;241m.\u001b[39mpop(\u001b[38;5;124m\"\u001b[39m\u001b[38;5;124minclude_fields\u001b[39m\u001b[38;5;124m\"\u001b[39m)\n\u001b[0;32m--> 547\u001b[0m \u001b[38;5;28;01mreturn\u001b[39;00m pyogrio\u001b[38;5;241m.\u001b[39mread_dataframe(path_or_bytes, bbox\u001b[38;5;241m=\u001b[39mbbox, \u001b[38;5;241m*\u001b[39m\u001b[38;5;241m*\u001b[39mkwargs)\n",
      "File \u001b[0;32m/opt/anaconda3/lib/python3.11/site-packages/pyogrio/geopandas.py:265\u001b[0m, in \u001b[0;36mread_dataframe\u001b[0;34m(path_or_buffer, layer, encoding, columns, read_geometry, force_2d, skip_features, max_features, where, bbox, mask, fids, sql, sql_dialect, fid_as_index, use_arrow, on_invalid, arrow_to_pandas_kwargs, **kwargs)\u001b[0m\n\u001b[1;32m    260\u001b[0m \u001b[38;5;28;01mif\u001b[39;00m \u001b[38;5;129;01mnot\u001b[39;00m use_arrow:\n\u001b[1;32m    261\u001b[0m     \u001b[38;5;66;03m# For arrow, datetimes are read as is.\u001b[39;00m\n\u001b[1;32m    262\u001b[0m     \u001b[38;5;66;03m# For numpy IO, datetimes are read as string values to preserve timezone info\u001b[39;00m\n\u001b[1;32m    263\u001b[0m     \u001b[38;5;66;03m# as numpy does not directly support timezones.\u001b[39;00m\n\u001b[1;32m    264\u001b[0m     kwargs[\u001b[38;5;124m\"\u001b[39m\u001b[38;5;124mdatetime_as_string\u001b[39m\u001b[38;5;124m\"\u001b[39m] \u001b[38;5;241m=\u001b[39m \u001b[38;5;28;01mTrue\u001b[39;00m\n\u001b[0;32m--> 265\u001b[0m result \u001b[38;5;241m=\u001b[39m read_func(\n\u001b[1;32m    266\u001b[0m     path_or_buffer,\n\u001b[1;32m    267\u001b[0m     layer\u001b[38;5;241m=\u001b[39mlayer,\n\u001b[1;32m    268\u001b[0m     encoding\u001b[38;5;241m=\u001b[39mencoding,\n\u001b[1;32m    269\u001b[0m     columns\u001b[38;5;241m=\u001b[39mcolumns,\n\u001b[1;32m    270\u001b[0m     read_geometry\u001b[38;5;241m=\u001b[39mread_geometry,\n\u001b[1;32m    271\u001b[0m     force_2d\u001b[38;5;241m=\u001b[39mgdal_force_2d,\n\u001b[1;32m    272\u001b[0m     skip_features\u001b[38;5;241m=\u001b[39mskip_features,\n\u001b[1;32m    273\u001b[0m     max_features\u001b[38;5;241m=\u001b[39mmax_features,\n\u001b[1;32m    274\u001b[0m     where\u001b[38;5;241m=\u001b[39mwhere,\n\u001b[1;32m    275\u001b[0m     bbox\u001b[38;5;241m=\u001b[39mbbox,\n\u001b[1;32m    276\u001b[0m     mask\u001b[38;5;241m=\u001b[39mmask,\n\u001b[1;32m    277\u001b[0m     fids\u001b[38;5;241m=\u001b[39mfids,\n\u001b[1;32m    278\u001b[0m     sql\u001b[38;5;241m=\u001b[39msql,\n\u001b[1;32m    279\u001b[0m     sql_dialect\u001b[38;5;241m=\u001b[39msql_dialect,\n\u001b[1;32m    280\u001b[0m     return_fids\u001b[38;5;241m=\u001b[39mfid_as_index,\n\u001b[1;32m    281\u001b[0m     \u001b[38;5;241m*\u001b[39m\u001b[38;5;241m*\u001b[39mkwargs,\n\u001b[1;32m    282\u001b[0m )\n\u001b[1;32m    284\u001b[0m \u001b[38;5;28;01mif\u001b[39;00m use_arrow:\n\u001b[1;32m    285\u001b[0m     meta, table \u001b[38;5;241m=\u001b[39m result\n",
      "File \u001b[0;32m/opt/anaconda3/lib/python3.11/site-packages/pyogrio/raw.py:198\u001b[0m, in \u001b[0;36mread\u001b[0;34m(path_or_buffer, layer, encoding, columns, read_geometry, force_2d, skip_features, max_features, where, bbox, mask, fids, sql, sql_dialect, return_fids, datetime_as_string, **kwargs)\u001b[0m\n\u001b[1;32m     59\u001b[0m \u001b[38;5;250m\u001b[39m\u001b[38;5;124;03m\"\"\"Read OGR data source into numpy arrays.\u001b[39;00m\n\u001b[1;32m     60\u001b[0m \n\u001b[1;32m     61\u001b[0m \u001b[38;5;124;03mIMPORTANT: non-linear geometry types (e.g., MultiSurface) are converted\u001b[39;00m\n\u001b[0;32m   (...)\u001b[0m\n\u001b[1;32m    194\u001b[0m \n\u001b[1;32m    195\u001b[0m \u001b[38;5;124;03m\"\"\"\u001b[39;00m\n\u001b[1;32m    196\u001b[0m dataset_kwargs \u001b[38;5;241m=\u001b[39m _preprocess_options_key_value(kwargs) \u001b[38;5;28;01mif\u001b[39;00m kwargs \u001b[38;5;28;01melse\u001b[39;00m {}\n\u001b[0;32m--> 198\u001b[0m \u001b[38;5;28;01mreturn\u001b[39;00m ogr_read(\n\u001b[1;32m    199\u001b[0m     get_vsi_path_or_buffer(path_or_buffer),\n\u001b[1;32m    200\u001b[0m     layer\u001b[38;5;241m=\u001b[39mlayer,\n\u001b[1;32m    201\u001b[0m     encoding\u001b[38;5;241m=\u001b[39mencoding,\n\u001b[1;32m    202\u001b[0m     columns\u001b[38;5;241m=\u001b[39mcolumns,\n\u001b[1;32m    203\u001b[0m     read_geometry\u001b[38;5;241m=\u001b[39mread_geometry,\n\u001b[1;32m    204\u001b[0m     force_2d\u001b[38;5;241m=\u001b[39mforce_2d,\n\u001b[1;32m    205\u001b[0m     skip_features\u001b[38;5;241m=\u001b[39mskip_features,\n\u001b[1;32m    206\u001b[0m     max_features\u001b[38;5;241m=\u001b[39mmax_features \u001b[38;5;129;01mor\u001b[39;00m \u001b[38;5;241m0\u001b[39m,\n\u001b[1;32m    207\u001b[0m     where\u001b[38;5;241m=\u001b[39mwhere,\n\u001b[1;32m    208\u001b[0m     bbox\u001b[38;5;241m=\u001b[39mbbox,\n\u001b[1;32m    209\u001b[0m     mask\u001b[38;5;241m=\u001b[39m_mask_to_wkb(mask),\n\u001b[1;32m    210\u001b[0m     fids\u001b[38;5;241m=\u001b[39mfids,\n\u001b[1;32m    211\u001b[0m     sql\u001b[38;5;241m=\u001b[39msql,\n\u001b[1;32m    212\u001b[0m     sql_dialect\u001b[38;5;241m=\u001b[39msql_dialect,\n\u001b[1;32m    213\u001b[0m     return_fids\u001b[38;5;241m=\u001b[39mreturn_fids,\n\u001b[1;32m    214\u001b[0m     dataset_kwargs\u001b[38;5;241m=\u001b[39mdataset_kwargs,\n\u001b[1;32m    215\u001b[0m     datetime_as_string\u001b[38;5;241m=\u001b[39mdatetime_as_string,\n\u001b[1;32m    216\u001b[0m )\n",
      "File \u001b[0;32mpyogrio/_io.pyx:1240\u001b[0m, in \u001b[0;36mpyogrio._io.ogr_read\u001b[0;34m()\u001b[0m\n",
      "File \u001b[0;32mpyogrio/_io.pyx:220\u001b[0m, in \u001b[0;36mpyogrio._io.ogr_open\u001b[0;34m()\u001b[0m\n",
      "\u001b[0;31mDataSourceError\u001b[0m: data/shapefiles/B1_Provinciegrenzen_van_NederlandPolygon.shp: No such file or directory"
     ]
    }
   ],
   "source": [
    "# Test shapefile laden\n",
    "from data_service import get_metric_mapping, get_available_years\n",
    "from data_loader import load_province_shapefile\n",
    "province_gdf = load_province_shapefile()\n",
    "print(province_gdf.head())"
   ]
  },
  {
   "cell_type": "markdown",
   "id": "ec8d7ed5",
   "metadata": {},
   "source": [
    "## 📤 Export testen (klein / groot, alle formats)"
   ]
  },
  {
   "cell_type": "code",
   "execution_count": null,
   "id": "e32b1741",
   "metadata": {},
   "outputs": [],
   "source": [
    "from covid_dashboard_presenter import plot_covid_data\n",
    "from export_utils import create_export_widget\n",
    "\n",
    "# Stel een gefilterde dataset samen (voorbeeld met dummy-waarden)\n",
    "df_filtered_tab1 = plot_covid_data(\n",
    "    df_full_tab1,\n",
    "    year=2021,\n",
    "    total_reported=True,\n",
    "    hospital_admission=False,\n",
    "    deceased=False,\n",
    "    province='Netherlands',\n",
    "    municipalities=False,\n",
    "    months=True\n",
    ")\n",
    "\n",
    "display(create_export_widget(df_filtered_tab1, df_full_tab1, \"tab1_data\"))"
   ]
  },
  {
   "cell_type": "markdown",
   "id": "ad2e4f4e",
   "metadata": {},
   "source": [
    "## 🧪 Overgeplaatste testcellen vanuit dashboard notebook"
   ]
  },
  {
   "cell_type": "code",
   "execution_count": null,
   "id": "1dee878f-bed4-4f6d-9721-f63abe2086cf",
   "metadata": {},
   "outputs": [],
   "source": [
    "# Test functie metric mapping\n",
    "from data_service import get_metric_mapping, get_available_years\n",
    "from data_loader import load_province_shapefile\n",
    "metric_mapping = get_metric_mapping()\n",
    "print(metric_mapping)"
   ]
  }
 ],
 "metadata": {
  "kernelspec": {
   "display_name": "Python 3 (ipykernel)",
   "language": "python",
   "name": "python3"
  },
  "language_info": {
   "codemirror_mode": {
    "name": "ipython",
    "version": 3
   },
   "file_extension": ".py",
   "mimetype": "text/x-python",
   "name": "python",
   "nbconvert_exporter": "python",
   "pygments_lexer": "ipython3",
   "version": "3.11.7"
  },
  "widgets": {
   "application/vnd.jupyter.widget-state+json": {
    "state": {},
    "version_major": 2,
    "version_minor": 0
   }
  }
 },
 "nbformat": 4,
 "nbformat_minor": 5
}
