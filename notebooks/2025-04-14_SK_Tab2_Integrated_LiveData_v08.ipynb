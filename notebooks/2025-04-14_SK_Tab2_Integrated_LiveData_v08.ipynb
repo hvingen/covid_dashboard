{
 "cells": [
  {
   "cell_type": "code",
   "execution_count": 1,
   "id": "df8f65aa-af23-4a0a-956b-6848d69333fb",
   "metadata": {},
   "outputs": [
    {
     "name": "stdout",
     "output_type": "stream",
     "text": [
      "✅ config.py aan het pad toegevoegd\n",
      "✅ src aan het pad toegevoegd\n"
     ]
    }
   ],
   "source": [
    "import sys\n",
    "from pathlib import Path\n",
    "project_root = Path().resolve().parent\n",
    "src_path = project_root / 'src'\n",
    "config_path = project_root / 'config.py'\n",
    "if config_path.exists():\n",
    "    if str(project_root) not in sys.path:\n",
    "        sys.path.insert(0, str(project_root))\n",
    "    print('✅ config.py aan het pad toegevoegd')\n",
    "if src_path.exists():\n",
    "    if str(src_path) not in sys.path:\n",
    "        sys.path.insert(0, str(src_path))\n",
    "    print('✅ src aan het pad toegevoegd')"
   ]
  },
  {
   "cell_type": "code",
   "execution_count": 2,
   "id": "83e5a396-a547-46fa-a311-7dfab4a654bf",
   "metadata": {},
   "outputs": [
    {
     "name": "stdout",
     "output_type": "stream",
     "text": [
      "📁 EXPORT_FOLDER: notebooks/exports\n",
      "📁 CSV_FOLDER: data/csv\n",
      "📁 SHAPEFILE_FOLDER: data/shapefiles\n"
     ]
    }
   ],
   "source": [
    "# 🔧 Test config.py import\n",
    "from config import EXPORT_FOLDER, CSV_FOLDER, SHAPEFILE_FOLDER\n",
    "\n",
    "print('📁 EXPORT_FOLDER:', EXPORT_FOLDER)\n",
    "print('📁 CSV_FOLDER:', CSV_FOLDER)\n",
    "print('📁 SHAPEFILE_FOLDER:', SHAPEFILE_FOLDER)\n"
   ]
  },
  {
   "cell_type": "code",
   "execution_count": 3,
   "id": "cf8adb9e",
   "metadata": {},
   "outputs": [],
   "source": [
    "import config\n",
    "import geopandas as gpd\n",
    "import pandas as pd\n",
    "import matplotlib.pyplot as plt\n",
    "import numpy as np\n",
    "import ipywidgets as widgets\n",
    "from IPython.display import display\n",
    "from datetime import datetime\n",
    "import csv\n",
    "import os\n",
    "\n",
    "from data_service import get_metric_mapping, get_available_years, get_municipality_heatmap_data, get_province_heatmap_data, get_prepared_covid_dataset\n",
    "\n",
    "EXPORT_DIR = Path.cwd() / \"exports\"\n",
    "EXPORT_DIR.mkdir(parents=True, exist_ok=True)\n",
    "LOG_FILE = EXPORT_DIR / \"export_log.csv\"\n"
   ]
  },
  {
   "cell_type": "code",
   "execution_count": 4,
   "id": "f10d9ccf",
   "metadata": {},
   "outputs": [],
   "source": [
    "def plot_heatmap_scaled(gdf, column, title=\"\", vmin=None, vmax=None, unit=\"\", export=False, filename=None):\n",
    "    fig, ax = plt.subplots(figsize=(10, 10))\n",
    "    gdf.plot(column=column, ax=ax, legend=True, edgecolor='white', linewidth=0.2,\n",
    "             vmin=vmin, vmax=vmax)\n",
    "    ax.set_title(title, fontsize=14)\n",
    "    ax.axis(\"off\")\n",
    "    ax.annotate('N', xy=(0.86, 0.12), xytext=(0.86, 0.05),\n",
    "                arrowprops=dict(facecolor='black', width=5, headwidth=15),\n",
    "                ha='center', va='center', fontsize=12, xycoords=ax.transAxes)\n",
    "    cbar = fig.axes[-1]\n",
    "    cbar.set_ylabel(unit, rotation=90, labelpad=15)\n",
    "    if export and filename:\n",
    "        filepath = EXPORT_DIR / filename\n",
    "        plt.savefig(filepath, dpi=300, bbox_inches=\"tight\")\n",
    "        print(f\"✅ PNG exported to: {filepath}\")\n",
    "        log_export(\"Export heatmap as PNG\", filename)\n",
    "    plt.show()\n",
    "\n",
    "def log_export(export_type, filename):\n",
    "    now = datetime.now().strftime(\"%Y-%m-%d %H:%M:%S\")\n",
    "    with LOG_FILE.open(\"a\", newline=\"\") as f:\n",
    "        csv.writer(f).writerow([now, export_type, filename])\n"
   ]
  },
  {
   "cell_type": "code",
   "execution_count": 5,
   "id": "2f435b3d",
   "metadata": {},
   "outputs": [
    {
     "ename": "TypeError",
     "evalue": "'NoneType' object is not subscriptable",
     "output_type": "error",
     "traceback": [
      "\u001b[0;31m---------------------------------------------------------------------------\u001b[0m",
      "\u001b[0;31mTypeError\u001b[0m                                 Traceback (most recent call last)",
      "Cell \u001b[0;32mIn[5], line 2\u001b[0m\n\u001b[1;32m      1\u001b[0m unit_label \u001b[38;5;241m=\u001b[39m \u001b[38;5;124m\"\u001b[39m\u001b[38;5;124mCases/100K\u001b[39m\u001b[38;5;124m\"\u001b[39m\n\u001b[0;32m----> 2\u001b[0m df \u001b[38;5;241m=\u001b[39m get_prepared_covid_dataset()\n\u001b[1;32m      4\u001b[0m year_options \u001b[38;5;241m=\u001b[39m get_available_years(df)\n\u001b[1;32m      5\u001b[0m metric_mapping \u001b[38;5;241m=\u001b[39m get_metric_mapping()\n",
      "File \u001b[0;32m~/Repositories/Opdracht_2_2025_3a/src/data_service.py:34\u001b[0m, in \u001b[0;36mget_prepared_covid_dataset\u001b[0;34m()\u001b[0m\n\u001b[1;32m     31\u001b[0m dfs \u001b[38;5;241m=\u001b[39m data_loader\u001b[38;5;241m.\u001b[39mDataframes()\n\u001b[1;32m     33\u001b[0m \u001b[38;5;66;03m#clean the data set for aantal gemeenten\u001b[39;00m\n\u001b[0;32m---> 34\u001b[0m dataframe_cleaner\u001b[38;5;241m.\u001b[39mclean_dataframe_aantallen_gemeente(dfs)\n\u001b[1;32m     36\u001b[0m \u001b[38;5;66;03m#clean the dataset for ziekenhuisopnamen\u001b[39;00m\n\u001b[1;32m     37\u001b[0m dataframe_cleaner\u001b[38;5;241m.\u001b[39mclean_dataframe_ziekenhuisopnames(dfs)\n",
      "File \u001b[0;32m~/Repositories/Opdracht_2_2025_3a/src/dataframe_cleaner.py:57\u001b[0m, in \u001b[0;36mclean_dataframe_aantallen_gemeente\u001b[0;34m(dataframes)\u001b[0m\n\u001b[1;32m     50\u001b[0m \u001b[38;5;250m\u001b[39m\u001b[38;5;124;03m\"\"\"TODO: Beschrijf deze functie.\"\"\"\u001b[39;00m\n\u001b[1;32m     51\u001b[0m \u001b[38;5;250m\u001b[39m\u001b[38;5;124;03m\"\"\"\u001b[39;00m\n\u001b[1;32m     52\u001b[0m \u001b[38;5;124;03mThis function cleans the dataframe for aantallen_gemeente\u001b[39;00m\n\u001b[1;32m     53\u001b[0m \u001b[38;5;124;03m- adds mew column in a date types using a previously determined date format\u001b[39;00m\n\u001b[1;32m     54\u001b[0m \u001b[38;5;124;03m- replaces the 9999 values for the column deceased with 0 for all rows with a date after 1-1-12023\u001b[39;00m\n\u001b[1;32m     55\u001b[0m \u001b[38;5;124;03m:param an instance of the Class DataFrames : dataframes\u001b[39;00m\n\u001b[1;32m     56\u001b[0m \u001b[38;5;124;03m\"\"\"\u001b[39;00m\n\u001b[0;32m---> 57\u001b[0m date_format \u001b[38;5;241m=\u001b[39m determine_date_format_date_of_publication(dataframes)\n\u001b[1;32m     58\u001b[0m \u001b[38;5;66;03m# make a new column of type date to be able later to easier get the year and month from the 'Date_of_publication'\u001b[39;00m\n\u001b[1;32m     59\u001b[0m \u001b[38;5;66;03m# and to replace the value for the deceased records with 9999 after the date 01-01-2023 with the value 0\u001b[39;00m\n\u001b[1;32m     60\u001b[0m dataframes\u001b[38;5;241m.\u001b[39maantallen_gemeente_df1[\u001b[38;5;124m'\u001b[39m\u001b[38;5;124mPublication_date\u001b[39m\u001b[38;5;124m'\u001b[39m] \u001b[38;5;241m=\u001b[39m pd\u001b[38;5;241m.\u001b[39mto_datetime(\n\u001b[1;32m     61\u001b[0m     dataframes\u001b[38;5;241m.\u001b[39maantallen_gemeente_df1[\u001b[38;5;124m'\u001b[39m\u001b[38;5;124mDate_of_publication\u001b[39m\u001b[38;5;124m'\u001b[39m], \u001b[38;5;28mformat\u001b[39m\u001b[38;5;241m=\u001b[39mdate_format, errors\u001b[38;5;241m=\u001b[39m\u001b[38;5;124m'\u001b[39m\u001b[38;5;124mcoerce\u001b[39m\u001b[38;5;124m'\u001b[39m)\n",
      "File \u001b[0;32m~/Repositories/Opdracht_2_2025_3a/src/dataframe_cleaner.py:20\u001b[0m, in \u001b[0;36mdetermine_date_format_date_of_publication\u001b[0;34m(dataframes)\u001b[0m\n\u001b[1;32m     13\u001b[0m \u001b[38;5;28;01mdef\u001b[39;00m \u001b[38;5;21mdetermine_date_format_date_of_publication\u001b[39m(dataframes: \u001b[38;5;28mobject\u001b[39m) \u001b[38;5;241m-\u001b[39m\u001b[38;5;241m>\u001b[39m \u001b[38;5;28mstr\u001b[39m:\n\u001b[1;32m     14\u001b[0m \u001b[38;5;250m    \u001b[39m\u001b[38;5;124;03m\"\"\"\u001b[39;00m\n\u001b[1;32m     15\u001b[0m \u001b[38;5;124;03m    This function determines in which date format the data in the column 'Date_of_publication' is stored\u001b[39;00m\n\u001b[1;32m     16\u001b[0m \u001b[38;5;124;03m    Four date formats are checked. If any column contains that format then that format can be used to read the data as a date\u001b[39;00m\n\u001b[1;32m     17\u001b[0m \u001b[38;5;124;03m    :param an instance of the Class DataFrames : dataframes\u001b[39;00m\n\u001b[1;32m     18\u001b[0m \u001b[38;5;124;03m    :return: string\u001b[39;00m\n\u001b[1;32m     19\u001b[0m \u001b[38;5;124;03m    \"\"\"\u001b[39;00m\n\u001b[0;32m---> 20\u001b[0m     \u001b[38;5;28;01mif\u001b[39;00m dataframes\u001b[38;5;241m.\u001b[39maantallen_gemeente_df1[\u001b[38;5;124m'\u001b[39m\u001b[38;5;124mDate_of_publication\u001b[39m\u001b[38;5;124m'\u001b[39m]\u001b[38;5;241m.\u001b[39mstr\u001b[38;5;241m.\u001b[39mcontains(date_pattern1)\u001b[38;5;241m.\u001b[39many():\n\u001b[1;32m     21\u001b[0m         date_format \u001b[38;5;241m=\u001b[39m \u001b[38;5;124m'\u001b[39m\u001b[38;5;132;01m%d\u001b[39;00m\u001b[38;5;124m-\u001b[39m\u001b[38;5;124m%\u001b[39m\u001b[38;5;124mm-\u001b[39m\u001b[38;5;124m%\u001b[39m\u001b[38;5;124mY\u001b[39m\u001b[38;5;124m'\u001b[39m\n\u001b[1;32m     22\u001b[0m     \u001b[38;5;28;01melif\u001b[39;00m dataframes\u001b[38;5;241m.\u001b[39maantallen_gemeente_df1[\u001b[38;5;124m'\u001b[39m\u001b[38;5;124mDate_of_publication\u001b[39m\u001b[38;5;124m'\u001b[39m]\u001b[38;5;241m.\u001b[39mstr\u001b[38;5;241m.\u001b[39mcontains(date_pattern2)\u001b[38;5;241m.\u001b[39many():\n",
      "\u001b[0;31mTypeError\u001b[0m: 'NoneType' object is not subscriptable"
     ]
    }
   ],
   "source": [
    "unit_label = \"Cases/100K\"\n",
    "df = get_prepared_covid_dataset()\n",
    "\n",
    "year_options = get_available_years(df)\n",
    "metric_mapping = get_metric_mapping()\n",
    "metric_options = list(metric_mapping.keys())\n",
    "\n",
    "year_dropdown = widgets.Dropdown(options=year_options, value=year_options[-1], description=\"Year:\",\n",
    "                                 layout=widgets.Layout(width=\"320px\"))\n",
    "metric_dropdown = widgets.Dropdown(options=metric_options, value=metric_options[0], description=\"Metric:\",\n",
    "                                   layout=widgets.Layout(width=\"320px\"))\n",
    "region_dropdown = widgets.Dropdown(options=[\"Provinces\", \"Municipalities\"], value=\"Provinces\", description=\"Level:\",\n",
    "                                   layout=widgets.Layout(width=\"320px\"))\n",
    "\n",
    "# Gebruik max van een relevante kolom om schaal te bepalen\n",
    "sample_df = get_municipality_heatmap_data(year_options[-1])\n",
    "sample_max = int(np.ceil(sample_df[metric_mapping[metric_options[0]]].max() / 100.0)) * 100\n",
    "scale_options = [int(sample_max * r) for r in [0.2, 0.4, 0.6, 0.8, 1.0]]\n",
    "\n",
    "scale_dropdown = widgets.Dropdown(\n",
    "    options=[f\"{val} {unit_label}\" for val in scale_options],\n",
    "    value=f\"{scale_options[-1]} {unit_label}\",\n",
    "    description=\"Scale max:\",\n",
    "    layout=widgets.Layout(width=\"320px\")\n",
    ")\n",
    "\n",
    "export_dropdown = widgets.Dropdown(\n",
    "    options=[\"Select export...\", \"Export as CSV\", \"Export as Markdown\", \"Export as PDF\", \"Export heatmap as PNG\"],\n",
    "    description=\"Export:\",\n",
    "    layout=widgets.Layout(width=\"320px\")\n",
    ")\n",
    "export_button = widgets.Button(description=\"Go\", button_style=\"success\", icon=\"download\",\n",
    "                               layout=widgets.Layout(width=\"80px\"))\n",
    "\n",
    "title_widget = widgets.HTML(\"<h3 style='text-align:left;'>Heatmap – Regional COVID Data</h3>\")\n",
    "plot_output = widgets.Output()\n"
   ]
  },
  {
   "cell_type": "code",
   "execution_count": null,
   "id": "10fe5293",
   "metadata": {},
   "outputs": [],
   "source": [
    "left_column = widgets.VBox([\n",
    "    year_dropdown,\n",
    "    metric_dropdown,\n",
    "    region_dropdown,\n",
    "    scale_dropdown,\n",
    "    widgets.HBox([export_dropdown, export_button])\n",
    "], layout=widgets.Layout(width=\"320px\", justify_content='flex-start'))\n",
    "\n",
    "ui_layout = widgets.HBox([\n",
    "    left_column,\n",
    "    plot_output\n",
    "], layout=widgets.Layout(justify_content='flex-start', align_items='flex-start', width='100%', padding='10px'))\n",
    "\n",
    "display(widgets.VBox([title_widget, ui_layout], layout=widgets.Layout(width='100%', overflow='hidden')))\n"
   ]
  },
  {
   "cell_type": "code",
   "execution_count": null,
   "id": "1d0919e1",
   "metadata": {},
   "outputs": [],
   "source": [
    "def update_scale_options():\n",
    "    year = year_dropdown.value\n",
    "    metric_key = metric_dropdown.value\n",
    "    metric_col = metric_mapping[metric_key]\n",
    "    region = region_dropdown.value\n",
    "    gdf = get_province_heatmap_data(year) if region == \"Provinces\" else get_municipality_heatmap_data(year)\n",
    "    data_max = gdf[metric_col].max()\n",
    "    if pd.isnull(data_max):\n",
    "        data_max = 1  # fallback\n",
    "    base = int(np.ceil(data_max / 100.0)) * 100\n",
    "    values = [int(base * r) for r in [0.2, 0.4, 0.6, 0.8, 1.0]]\n",
    "    scale_dropdown.options = [f\"{v} {unit_label}\" for v in values]\n",
    "    scale_dropdown.value = f\"{values[-1]} {unit_label}\"\n"
   ]
  },
  {
   "cell_type": "code",
   "execution_count": null,
   "id": "037f161a",
   "metadata": {},
   "outputs": [],
   "source": [
    "def get_scale_value(scale_dropdown):\n",
    "    return int(scale_dropdown.value.split()[0])\n"
   ]
  },
  {
   "cell_type": "code",
   "execution_count": null,
   "id": "6d549e13",
   "metadata": {},
   "outputs": [],
   "source": [
    "def update_plot(change=None):\n",
    "    update_scale_options()\n",
    "    plot_output.clear_output()\n",
    "    with plot_output:\n",
    "        year = year_dropdown.value\n",
    "        metric_key = metric_dropdown.value\n",
    "        metric = metric_mapping[metric_key]\n",
    "        region = region_dropdown.value\n",
    "        gdf = get_province_heatmap_data(year) if region == \"Provinces\" else get_municipality_heatmap_data(year)\n",
    "        vmax = get_scale_value(scale_dropdown)\n",
    "        plot_heatmap_scaled(gdf, metric, f\"Heatmap – {region}\", vmin=0, vmax=vmax, unit=unit_label)\n",
    "\n",
    "region_dropdown.observe(update_plot, names='value')\n",
    "year_dropdown.observe(update_plot, names='value')\n",
    "metric_dropdown.observe(update_plot, names='value')\n",
    "scale_dropdown.observe(update_plot, names='value')\n",
    "update_plot()\n"
   ]
  }
 ],
 "metadata": {
  "kernelspec": {
   "display_name": "OU Python (Opdracht 2)",
   "language": "python",
   "name": "ou_opdracht2"
  },
  "language_info": {
   "codemirror_mode": {
    "name": "ipython",
    "version": 3
   },
   "file_extension": ".py",
   "mimetype": "text/x-python",
   "name": "python",
   "nbconvert_exporter": "python",
   "pygments_lexer": "ipython3",
   "version": "3.11.7"
  },
  "widgets": {
   "application/vnd.jupyter.widget-state+json": {
    "state": {},
    "version_major": 2,
    "version_minor": 0
   }
  }
 },
 "nbformat": 4,
 "nbformat_minor": 5
}
