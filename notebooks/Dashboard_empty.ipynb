{
 "cells": [
  {
   "cell_type": "code",
   "execution_count": 2,
   "id": "abe7dc64",
   "metadata": {},
   "outputs": [
    {
     "data": {
      "application/vnd.jupyter.widget-view+json": {
       "model_id": "ec3f08801d774aa7a8859b3ab6f05cc9",
       "version_major": 2,
       "version_minor": 0
      },
      "text/plain": [
       "Tab(children=(Output(), Output(), Output(), Output(), Output()), selected_index=0, titles=('Dashboard info', '…"
      ]
     },
     "metadata": {},
     "output_type": "display_data"
    }
   ],
   "source": [
    "import ipywidgets as widgets\n",
    "from IPython.display import display\n",
    "\n",
    "# Maak 5 lege tabs\n",
    "tab_contents = ['Dashboard info', 'Covid Data', 'Covid Heatmap', 'Sewer Data', 'Dataset installation']\n",
    "children = [widgets.Output() for _ in tab_contents]\n",
    "tab = widgets.Tab(children=children)\n",
    "for i, title in enumerate(tab_contents):\n",
    "    tab.set_title(i, title)\n",
    "display(tab)"
   ]
  },
  {
   "cell_type": "code",
   "execution_count": null,
   "id": "902036ee-13c1-4270-8b0c-b1a224b2d01f",
   "metadata": {},
   "outputs": [],
   "source": []
  }
 ],
 "metadata": {
  "kernelspec": {
   "display_name": "Python 3 (ipykernel)",
   "language": "python",
   "name": "python3"
  },
  "language_info": {
   "codemirror_mode": {
    "name": "ipython",
    "version": 3
   },
   "file_extension": ".py",
   "mimetype": "text/x-python",
   "name": "python",
   "nbconvert_exporter": "python",
   "pygments_lexer": "ipython3",
   "version": "3.12.2"
  },
  "widgets": {
   "application/vnd.jupyter.widget-state+json": {
    "state": {
     "0b444b3a9a73411d810e20588954b29c": {
      "model_module": "@jupyter-widgets/base",
      "model_module_version": "2.0.0",
      "model_name": "LayoutModel",
      "state": {}
     },
     "0e6dd0f0ae6c4b229abaf705ba631495": {
      "model_module": "@jupyter-widgets/base",
      "model_module_version": "2.0.0",
      "model_name": "LayoutModel",
      "state": {}
     },
     "0ec3e02750e2423eaf654b767f6bb01f": {
      "model_module": "@jupyter-widgets/base",
      "model_module_version": "2.0.0",
      "model_name": "LayoutModel",
      "state": {}
     },
     "1e00214f00c44b8780acbc918b522f69": {
      "model_module": "@jupyter-widgets/output",
      "model_module_version": "1.0.0",
      "model_name": "OutputModel",
      "state": {
       "layout": "IPY_MODEL_785616be74714fd79fe2a8891cd73abc"
      }
     },
     "379ab43dbfaf4ccb9a831ccdab8633e4": {
      "model_module": "@jupyter-widgets/controls",
      "model_module_version": "2.0.0",
      "model_name": "TabModel",
      "state": {
       "children": [
        "IPY_MODEL_d327f817fa1a4712a7c9d40140ae129a",
        "IPY_MODEL_8999579208e748bbbfef24e78c3a8e87",
        "IPY_MODEL_e66497678fd540ab86788f754710b11e",
        "IPY_MODEL_545b65cb5c6d497da2bbef1a57c5f251",
        "IPY_MODEL_1e00214f00c44b8780acbc918b522f69"
       ],
       "layout": "IPY_MODEL_c2fb7b4c78e64ae89b9f1eeeb164745d",
       "selected_index": 0,
       "titles": [
        "Tab 1",
        "Tab 2",
        "Tab 3",
        "Tab 4",
        "Tab 5"
       ]
      }
     },
     "3eb41f1f65bd494ea50717508d342f89": {
      "model_module": "@jupyter-widgets/base",
      "model_module_version": "2.0.0",
      "model_name": "LayoutModel",
      "state": {}
     },
     "473767a007e840f682007774504fcc42": {
      "model_module": "@jupyter-widgets/output",
      "model_module_version": "1.0.0",
      "model_name": "OutputModel",
      "state": {
       "layout": "IPY_MODEL_b140a001bffe419b988344de7a5d7cfb"
      }
     },
     "545b65cb5c6d497da2bbef1a57c5f251": {
      "model_module": "@jupyter-widgets/output",
      "model_module_version": "1.0.0",
      "model_name": "OutputModel",
      "state": {
       "layout": "IPY_MODEL_7786ec87d074461892935fd2a74edbc9"
      }
     },
     "6114e524eacf4d8f90051fc5e6a12491": {
      "model_module": "@jupyter-widgets/base",
      "model_module_version": "2.0.0",
      "model_name": "LayoutModel",
      "state": {}
     },
     "7786ec87d074461892935fd2a74edbc9": {
      "model_module": "@jupyter-widgets/base",
      "model_module_version": "2.0.0",
      "model_name": "LayoutModel",
      "state": {}
     },
     "785616be74714fd79fe2a8891cd73abc": {
      "model_module": "@jupyter-widgets/base",
      "model_module_version": "2.0.0",
      "model_name": "LayoutModel",
      "state": {}
     },
     "7b533fb1fbcc453f829bd581f1edc4b5": {
      "model_module": "@jupyter-widgets/base",
      "model_module_version": "2.0.0",
      "model_name": "LayoutModel",
      "state": {}
     },
     "877f8fe708f9424392734fcb4f85728f": {
      "model_module": "@jupyter-widgets/output",
      "model_module_version": "1.0.0",
      "model_name": "OutputModel",
      "state": {
       "layout": "IPY_MODEL_6114e524eacf4d8f90051fc5e6a12491"
      }
     },
     "8999579208e748bbbfef24e78c3a8e87": {
      "model_module": "@jupyter-widgets/output",
      "model_module_version": "1.0.0",
      "model_name": "OutputModel",
      "state": {
       "layout": "IPY_MODEL_b187ec21a5314618b4413fe7230c21e6"
      }
     },
     "9d9682b0fbcf4a63855755d4ce844ea5": {
      "model_module": "@jupyter-widgets/base",
      "model_module_version": "2.0.0",
      "model_name": "LayoutModel",
      "state": {}
     },
     "b140a001bffe419b988344de7a5d7cfb": {
      "model_module": "@jupyter-widgets/base",
      "model_module_version": "2.0.0",
      "model_name": "LayoutModel",
      "state": {}
     },
     "b187ec21a5314618b4413fe7230c21e6": {
      "model_module": "@jupyter-widgets/base",
      "model_module_version": "2.0.0",
      "model_name": "LayoutModel",
      "state": {}
     },
     "c2fb7b4c78e64ae89b9f1eeeb164745d": {
      "model_module": "@jupyter-widgets/base",
      "model_module_version": "2.0.0",
      "model_name": "LayoutModel",
      "state": {}
     },
     "d327f817fa1a4712a7c9d40140ae129a": {
      "model_module": "@jupyter-widgets/output",
      "model_module_version": "1.0.0",
      "model_name": "OutputModel",
      "state": {
       "layout": "IPY_MODEL_3eb41f1f65bd494ea50717508d342f89"
      }
     },
     "de8eedbc6db14d63ad5d4dd026549c6e": {
      "model_module": "@jupyter-widgets/output",
      "model_module_version": "1.0.0",
      "model_name": "OutputModel",
      "state": {
       "layout": "IPY_MODEL_7b533fb1fbcc453f829bd581f1edc4b5"
      }
     },
     "e66497678fd540ab86788f754710b11e": {
      "model_module": "@jupyter-widgets/output",
      "model_module_version": "1.0.0",
      "model_name": "OutputModel",
      "state": {
       "layout": "IPY_MODEL_0ec3e02750e2423eaf654b767f6bb01f"
      }
     },
     "ea1d46020e6a4e0c82fabfe239e60289": {
      "model_module": "@jupyter-widgets/output",
      "model_module_version": "1.0.0",
      "model_name": "OutputModel",
      "state": {
       "layout": "IPY_MODEL_9d9682b0fbcf4a63855755d4ce844ea5"
      }
     },
     "ec3f08801d774aa7a8859b3ab6f05cc9": {
      "model_module": "@jupyter-widgets/controls",
      "model_module_version": "2.0.0",
      "model_name": "TabModel",
      "state": {
       "children": [
        "IPY_MODEL_de8eedbc6db14d63ad5d4dd026549c6e",
        "IPY_MODEL_473767a007e840f682007774504fcc42",
        "IPY_MODEL_fade06b7955f492b80f5e8d00f4a26dd",
        "IPY_MODEL_877f8fe708f9424392734fcb4f85728f",
        "IPY_MODEL_ea1d46020e6a4e0c82fabfe239e60289"
       ],
       "layout": "IPY_MODEL_0b444b3a9a73411d810e20588954b29c",
       "selected_index": 0,
       "titles": [
        "Dashboard info",
        "Covid Data",
        "Covid Heatmap",
        "Sewer Data",
        "Dataset installation"
       ]
      }
     },
     "fade06b7955f492b80f5e8d00f4a26dd": {
      "model_module": "@jupyter-widgets/output",
      "model_module_version": "1.0.0",
      "model_name": "OutputModel",
      "state": {
       "layout": "IPY_MODEL_0e6dd0f0ae6c4b229abaf705ba631495"
      }
     }
    },
    "version_major": 2,
    "version_minor": 0
   }
  }
 },
 "nbformat": 4,
 "nbformat_minor": 5
}
