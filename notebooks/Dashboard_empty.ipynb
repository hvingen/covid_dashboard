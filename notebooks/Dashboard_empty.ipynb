{
 "cells": [
  {
   "cell_type": "code",
   "execution_count": 1,
   "id": "abe7dc64",
   "metadata": {},
   "outputs": [
    {
     "data": {
      "application/vnd.jupyter.widget-view+json": {
       "model_id": "f4e4fe9323684db7874278ce7f3ab239",
       "version_major": 2,
       "version_minor": 0
      },
      "text/plain": [
       "Tab(children=(Output(), Output(), Output(), Output(), Output()), selected_index=0, titles=('Tab 1', 'Tab 2', '…"
      ]
     },
     "metadata": {},
     "output_type": "display_data"
    }
   ],
   "source": [
    "import ipywidgets as widgets\n",
    "from IPython.display import display\n",
    "\n",
    "# Maak 5 lege tabs\n",
    "tab_contents = ['Tab 1', 'Tab 2', 'Tab 3', 'Tab 4', 'Tab 5']\n",
    "children = [widgets.Output() for _ in tab_contents]\n",
    "tab = widgets.Tab(children=children)\n",
    "for i, title in enumerate(tab_contents):\n",
    "    tab.set_title(i, title)\n",
    "display(tab)"
   ]
  }
 ],
 "metadata": {
  "kernelspec": {
   "display_name": "Python 3 (ipykernel)",
   "language": "python",
   "name": "python3"
  },
  "language_info": {
   "codemirror_mode": {
    "name": "ipython",
    "version": 3
   },
   "file_extension": ".py",
   "mimetype": "text/x-python",
   "name": "python",
   "nbconvert_exporter": "python",
   "pygments_lexer": "ipython3",
   "version": "3.11.7"
  },
  "widgets": {
   "application/vnd.jupyter.widget-state+json": {
    "state": {
     "047f233bf23a4c2aac914e2e115725e0": {
      "model_module": "@jupyter-widgets/base",
      "model_module_version": "2.0.0",
      "model_name": "LayoutModel",
      "state": {}
     },
     "1ce06d4a07bb42d3adc6192448978879": {
      "model_module": "@jupyter-widgets/base",
      "model_module_version": "2.0.0",
      "model_name": "LayoutModel",
      "state": {}
     },
     "2631a96818ed454c8cd7d21195ebd56e": {
      "model_module": "@jupyter-widgets/output",
      "model_module_version": "1.0.0",
      "model_name": "OutputModel",
      "state": {
       "layout": "IPY_MODEL_1ce06d4a07bb42d3adc6192448978879"
      }
     },
     "2a4e6fde027e4eed80ed584f53e46729": {
      "model_module": "@jupyter-widgets/output",
      "model_module_version": "1.0.0",
      "model_name": "OutputModel",
      "state": {
       "layout": "IPY_MODEL_5611ff23dd7546b4baa77b0c83c66e2c"
      }
     },
     "51cdf65f7b814be59e9bc7a0f41ccd4d": {
      "model_module": "@jupyter-widgets/base",
      "model_module_version": "2.0.0",
      "model_name": "LayoutModel",
      "state": {}
     },
     "53a0a4e231864d579b3983e345c11aa9": {
      "model_module": "@jupyter-widgets/output",
      "model_module_version": "1.0.0",
      "model_name": "OutputModel",
      "state": {
       "layout": "IPY_MODEL_51cdf65f7b814be59e9bc7a0f41ccd4d"
      }
     },
     "5611ff23dd7546b4baa77b0c83c66e2c": {
      "model_module": "@jupyter-widgets/base",
      "model_module_version": "2.0.0",
      "model_name": "LayoutModel",
      "state": {}
     },
     "b97be9c4aa3c485b8a4a75412350ab18": {
      "model_module": "@jupyter-widgets/base",
      "model_module_version": "2.0.0",
      "model_name": "LayoutModel",
      "state": {}
     },
     "bfa3a9b6c53c432b963d6882980fda48": {
      "model_module": "@jupyter-widgets/output",
      "model_module_version": "1.0.0",
      "model_name": "OutputModel",
      "state": {
       "layout": "IPY_MODEL_c5554fe0fd60461ea7756d0645aa32c2"
      }
     },
     "c5554fe0fd60461ea7756d0645aa32c2": {
      "model_module": "@jupyter-widgets/base",
      "model_module_version": "2.0.0",
      "model_name": "LayoutModel",
      "state": {}
     },
     "f24be9d24933432b989737e52f1efd11": {
      "model_module": "@jupyter-widgets/output",
      "model_module_version": "1.0.0",
      "model_name": "OutputModel",
      "state": {
       "layout": "IPY_MODEL_047f233bf23a4c2aac914e2e115725e0"
      }
     },
     "f4e4fe9323684db7874278ce7f3ab239": {
      "model_module": "@jupyter-widgets/controls",
      "model_module_version": "2.0.0",
      "model_name": "TabModel",
      "state": {
       "children": [
        "IPY_MODEL_53a0a4e231864d579b3983e345c11aa9",
        "IPY_MODEL_2631a96818ed454c8cd7d21195ebd56e",
        "IPY_MODEL_f24be9d24933432b989737e52f1efd11",
        "IPY_MODEL_2a4e6fde027e4eed80ed584f53e46729",
        "IPY_MODEL_bfa3a9b6c53c432b963d6882980fda48"
       ],
       "layout": "IPY_MODEL_b97be9c4aa3c485b8a4a75412350ab18",
       "selected_index": 0,
       "titles": [
        "Tab 1",
        "Tab 2",
        "Tab 3",
        "Tab 4",
        "Tab 5"
       ]
      }
     }
    },
    "version_major": 2,
    "version_minor": 0
   }
  }
 },
 "nbformat": 4,
 "nbformat_minor": 5
}
