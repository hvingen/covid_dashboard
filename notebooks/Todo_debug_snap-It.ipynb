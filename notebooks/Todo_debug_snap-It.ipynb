{
 "cells": [
  {
   "cell_type": "markdown",
   "id": "fe552d34",
   "metadata": {},
   "source": [
    "# 📘 Snap-It Notebook\n",
    "\n",
    "Deze notebook bevat handige hulpfuncties en controles voor het COVID-dashboardproject."
   ]
  },
  {
   "cell_type": "markdown",
   "id": "b48bedf4",
   "metadata": {},
   "source": [
    "## 📦 Data-initialisatie"
   ]
  },
  {
   "cell_type": "code",
   "execution_count": null,
   "id": "26693781-c278-4c1b-bc31-d1ac2899a0c5",
   "metadata": {},
   "outputs": [],
   "source": []
  },
  {
   "cell_type": "code",
   "execution_count": 1,
   "id": "8d09a868-2826-422c-b6a1-2b557bb7a612",
   "metadata": {},
   "outputs": [
    {
     "name": "stdout",
     "output_type": "stream",
     "text": [
      "✅ Root toegevoegd aan sys.path\n",
      "✅ src toegevoegd aan sys.path\n"
     ]
    }
   ],
   "source": [
    "# 📦 Setup paths\n",
    "import sys\n",
    "from pathlib import Path\n",
    "\n",
    "project_root = Path().resolve().parent\n",
    "src_path = project_root / 'src'\n",
    "config_path = project_root / 'config.py'\n",
    "\n",
    "if config_path.exists() and str(project_root) not in sys.path:\n",
    "    sys.path.insert(0, str(project_root))\n",
    "    print('✅ Root toegevoegd aan sys.path')\n",
    "\n",
    "if src_path.exists() and str(src_path) not in sys.path:\n",
    "    sys.path.insert(0, str(src_path))\n",
    "    print('✅ src toegevoegd aan sys.path')\n"
   ]
  },
  {
   "cell_type": "code",
   "execution_count": 2,
   "id": "f49563fe",
   "metadata": {},
   "outputs": [
    {
     "name": "stdout",
     "output_type": "stream",
     "text": [
      "🧠 Actieve Python-interpreter:\n",
      "/opt/anaconda3/bin/python\n",
      "\n",
      "📁 Huidige werkmap:\n",
      "/Users/hvingen/Repositories/OU_Project/covid_dashboard/notebooks\n",
      "\n",
      "📦 Controle of de modules goed staan\n",
      "✅ Het 'src' package is gevonden.\n",
      "⤷ Locatie: /Users/hvingen/Repositories/OU_Project/covid_dashboard/src/__init__.py\n"
     ]
    }
   ],
   "source": [
    "import sys\n",
    "import os\n",
    "from pathlib import Path\n",
    "import importlib.util\n",
    "\n",
    "def check_env():\n",
    "    print(\"🧠 Actieve Python-interpreter:\")\n",
    "    print(sys.executable)\n",
    "    print(\"\\n📁 Huidige werkmap:\")\n",
    "    print(os.getcwd())\n",
    "\n",
    "    print(\"\\n📦 Controle of de modules goed staan\")\n",
    "    spec = importlib.util.find_spec(\"src\")\n",
    "    if spec is None:\n",
    "        print(\"❌ De 'src' map is niet gevonden. Mogelijk verkeerde kernel actief.\")\n",
    "    else:\n",
    "        print(\"✅ Het 'src' package is gevonden.\")\n",
    "        print(f\"⤷ Locatie: {spec.origin}\")\n",
    "\n",
    "# Run de controle\n",
    "check_env()"
   ]
  },
  {
   "cell_type": "code",
   "execution_count": 3,
   "id": "cba38927",
   "metadata": {},
   "outputs": [],
   "source": [
    "from data_loader import Dataframes\n",
    "\n",
    "dfs = Dataframes()\n",
    "\n",
    "# 👉 Voorbeeld: volledige dataset ophalen\n",
    "df_full_tab1 = dfs.get_merged_and_clean_dataset()"
   ]
  },
  {
   "cell_type": "markdown",
   "id": "4b156999",
   "metadata": {},
   "source": [
    "## 📊 Data controleren"
   ]
  },
  {
   "cell_type": "code",
   "execution_count": 4,
   "id": "99f6b12e",
   "metadata": {},
   "outputs": [
    {
     "data": {
      "text/html": [
       "<div>\n",
       "<style scoped>\n",
       "    .dataframe tbody tr th:only-of-type {\n",
       "        vertical-align: middle;\n",
       "    }\n",
       "\n",
       "    .dataframe tbody tr th {\n",
       "        vertical-align: top;\n",
       "    }\n",
       "\n",
       "    .dataframe thead th {\n",
       "        text-align: right;\n",
       "    }\n",
       "</style>\n",
       "<table border=\"1\" class=\"dataframe\">\n",
       "  <thead>\n",
       "    <tr style=\"text-align: right;\">\n",
       "      <th></th>\n",
       "      <th>Version</th>\n",
       "      <th>Date_of_report</th>\n",
       "      <th>Date_of_publication</th>\n",
       "      <th>Municipality_code</th>\n",
       "      <th>Municipality_name</th>\n",
       "      <th>Province</th>\n",
       "      <th>Security_region_code</th>\n",
       "      <th>Security_region_name</th>\n",
       "      <th>Municipal_health_service</th>\n",
       "      <th>ROAZ_region</th>\n",
       "      <th>Total_reported</th>\n",
       "      <th>Deceased</th>\n",
       "    </tr>\n",
       "  </thead>\n",
       "  <tbody>\n",
       "    <tr>\n",
       "      <th>0</th>\n",
       "      <td>7</td>\n",
       "      <td>31-3-2023 10:00</td>\n",
       "      <td>4-10-2021</td>\n",
       "      <td>GM0014</td>\n",
       "      <td>Groningen</td>\n",
       "      <td>Groningen</td>\n",
       "      <td>VR01</td>\n",
       "      <td>Groningen</td>\n",
       "      <td>GGD Groningen</td>\n",
       "      <td>Acute Zorgnetwerk Noord Nederland</td>\n",
       "      <td>14</td>\n",
       "      <td>0</td>\n",
       "    </tr>\n",
       "    <tr>\n",
       "      <th>1</th>\n",
       "      <td>7</td>\n",
       "      <td>31-3-2023 10:00</td>\n",
       "      <td>4-10-2021</td>\n",
       "      <td>GM0034</td>\n",
       "      <td>Almere</td>\n",
       "      <td>Flevoland</td>\n",
       "      <td>VR25</td>\n",
       "      <td>Flevoland</td>\n",
       "      <td>GGD Flevoland</td>\n",
       "      <td>SpoedZorgNet</td>\n",
       "      <td>21</td>\n",
       "      <td>0</td>\n",
       "    </tr>\n",
       "    <tr>\n",
       "      <th>2</th>\n",
       "      <td>7</td>\n",
       "      <td>31-3-2023 10:00</td>\n",
       "      <td>4-10-2021</td>\n",
       "      <td>GM0037</td>\n",
       "      <td>Stadskanaal</td>\n",
       "      <td>Groningen</td>\n",
       "      <td>VR01</td>\n",
       "      <td>Groningen</td>\n",
       "      <td>GGD Groningen</td>\n",
       "      <td>Acute Zorgnetwerk Noord Nederland</td>\n",
       "      <td>2</td>\n",
       "      <td>0</td>\n",
       "    </tr>\n",
       "    <tr>\n",
       "      <th>3</th>\n",
       "      <td>7</td>\n",
       "      <td>31-3-2023 10:00</td>\n",
       "      <td>4-10-2021</td>\n",
       "      <td>GM0047</td>\n",
       "      <td>Veendam</td>\n",
       "      <td>Groningen</td>\n",
       "      <td>VR01</td>\n",
       "      <td>Groningen</td>\n",
       "      <td>GGD Groningen</td>\n",
       "      <td>Acute Zorgnetwerk Noord Nederland</td>\n",
       "      <td>2</td>\n",
       "      <td>0</td>\n",
       "    </tr>\n",
       "    <tr>\n",
       "      <th>4</th>\n",
       "      <td>7</td>\n",
       "      <td>31-3-2023 10:00</td>\n",
       "      <td>4-10-2021</td>\n",
       "      <td>GM0050</td>\n",
       "      <td>Zeewolde</td>\n",
       "      <td>Flevoland</td>\n",
       "      <td>VR25</td>\n",
       "      <td>Flevoland</td>\n",
       "      <td>GGD Flevoland</td>\n",
       "      <td>SpoedZorgNet</td>\n",
       "      <td>0</td>\n",
       "      <td>0</td>\n",
       "    </tr>\n",
       "  </tbody>\n",
       "</table>\n",
       "</div>"
      ],
      "text/plain": [
       "   Version   Date_of_report Date_of_publication Municipality_code  \\\n",
       "0        7  31-3-2023 10:00           4-10-2021            GM0014   \n",
       "1        7  31-3-2023 10:00           4-10-2021            GM0034   \n",
       "2        7  31-3-2023 10:00           4-10-2021            GM0037   \n",
       "3        7  31-3-2023 10:00           4-10-2021            GM0047   \n",
       "4        7  31-3-2023 10:00           4-10-2021            GM0050   \n",
       "\n",
       "  Municipality_name   Province Security_region_code Security_region_name  \\\n",
       "0         Groningen  Groningen                 VR01            Groningen   \n",
       "1            Almere  Flevoland                 VR25            Flevoland   \n",
       "2       Stadskanaal  Groningen                 VR01            Groningen   \n",
       "3           Veendam  Groningen                 VR01            Groningen   \n",
       "4          Zeewolde  Flevoland                 VR25            Flevoland   \n",
       "\n",
       "  Municipal_health_service                        ROAZ_region  Total_reported  \\\n",
       "0            GGD Groningen  Acute Zorgnetwerk Noord Nederland              14   \n",
       "1            GGD Flevoland                       SpoedZorgNet              21   \n",
       "2            GGD Groningen  Acute Zorgnetwerk Noord Nederland               2   \n",
       "3            GGD Groningen  Acute Zorgnetwerk Noord Nederland               2   \n",
       "4            GGD Flevoland                       SpoedZorgNet               0   \n",
       "\n",
       "   Deceased  \n",
       "0         0  \n",
       "1         0  \n",
       "2         0  \n",
       "3         0  \n",
       "4         0  "
      ]
     },
     "metadata": {},
     "output_type": "display_data"
    }
   ],
   "source": [
    "# Toon eerste regels df full tab1\n",
    "if df_full_tab1 is not None:\n",
    "    display(df_full_tab1.head())\n",
    "else:\n",
    "    print('❌ Geen merged dataset geladen.')"
   ]
  },
  {
   "cell_type": "markdown",
   "id": "7862cc9f-644b-4263-8ef4-0447eda96116",
   "metadata": {},
   "source": [
    "## 📊 Data controleren"
   ]
  },
  {
   "cell_type": "code",
   "execution_count": 5,
   "id": "71e556f8-9a02-4843-8384-1b7802faf29b",
   "metadata": {
    "scrolled": true
   },
   "outputs": [
    {
     "name": "stdout",
     "output_type": "stream",
     "text": [
      "   CBS_CODE      PROV_NAAM  OBJECTID  \\\n",
      "0       2.0      Friesland       1.0   \n",
      "1       7.0  Noord-Holland       2.0   \n",
      "2       5.0     Gelderland       3.0   \n",
      "3       3.0        Drenthe       4.0   \n",
      "4       6.0        Utrecht       5.0   \n",
      "\n",
      "                                            geometry  \n",
      "0  POLYGON ((1.66e+05 6.1e+05, 1.7e+05 6.12e+05, ...  \n",
      "1  POLYGON ((1.01e+05 5.1e+05, 1.01e+05 5.11e+05,...  \n",
      "2  POLYGON ((1.7e+05 4.45e+05, 1.7e+05 4.45e+05, ...  \n",
      "3  POLYGON ((2.24e+05 5.56e+05, 2.24e+05 5.56e+05...  \n",
      "4  POLYGON ((1.21e+05 4.64e+05, 1.21e+05 4.64e+05...  \n"
     ]
    }
   ],
   "source": [
    "# Test shapefile laden\n",
    "from data_service import get_metric_mapping, get_available_years\n",
    "from data_loader import load_province_shapefile\n",
    "province_gdf = load_province_shapefile()\n",
    "print(province_gdf.head())"
   ]
  },
  {
   "cell_type": "markdown",
   "id": "ec8d7ed5",
   "metadata": {},
   "source": [
    "## 📤 Export testen (klein / groot, alle formats)"
   ]
  },
  {
   "cell_type": "code",
   "execution_count": 6,
   "id": "e32b1741",
   "metadata": {},
   "outputs": [
    {
     "ename": "OSError",
     "evalue": "[Errno 30] Read-only file system: '/notebooks'",
     "output_type": "error",
     "traceback": [
      "\u001b[0;31m---------------------------------------------------------------------------\u001b[0m",
      "\u001b[0;31mOSError\u001b[0m                                   Traceback (most recent call last)",
      "Cell \u001b[0;32mIn[6], line 2\u001b[0m\n\u001b[1;32m      1\u001b[0m \u001b[38;5;28;01mfrom\u001b[39;00m \u001b[38;5;21;01mcovid_dashboard_presenter\u001b[39;00m \u001b[38;5;28;01mimport\u001b[39;00m plot_covid_data\n\u001b[0;32m----> 2\u001b[0m \u001b[38;5;28;01mfrom\u001b[39;00m \u001b[38;5;21;01mexport_utils\u001b[39;00m \u001b[38;5;28;01mimport\u001b[39;00m create_export_widget\n\u001b[1;32m      4\u001b[0m \u001b[38;5;66;03m# Stel een gefilterde dataset samen (voorbeeld met dummy-waarden)\u001b[39;00m\n\u001b[1;32m      5\u001b[0m df_filtered_tab1 \u001b[38;5;241m=\u001b[39m plot_covid_data(\n\u001b[1;32m      6\u001b[0m     df_full_tab1,\n\u001b[1;32m      7\u001b[0m     year\u001b[38;5;241m=\u001b[39m\u001b[38;5;241m2021\u001b[39m,\n\u001b[0;32m   (...)\u001b[0m\n\u001b[1;32m     13\u001b[0m     months\u001b[38;5;241m=\u001b[39m\u001b[38;5;28;01mTrue\u001b[39;00m\n\u001b[1;32m     14\u001b[0m )\n",
      "File \u001b[0;32m~/Repositories/OU_Project/covid_dashboard/src/export_utils.py:7\u001b[0m\n\u001b[1;32m      4\u001b[0m \u001b[38;5;28;01mimport\u001b[39;00m \u001b[38;5;21;01mpandas\u001b[39;00m \u001b[38;5;28;01mas\u001b[39;00m \u001b[38;5;21;01mpd\u001b[39;00m\n\u001b[1;32m      6\u001b[0m EXPORTS_DIR \u001b[38;5;241m=\u001b[39m os\u001b[38;5;241m.\u001b[39mpath\u001b[38;5;241m.\u001b[39mjoin(os\u001b[38;5;241m.\u001b[39mgetcwd(), \u001b[38;5;124m\"\u001b[39m\u001b[38;5;124m/notebooks/exports\u001b[39m\u001b[38;5;124m\"\u001b[39m)\n\u001b[0;32m----> 7\u001b[0m os\u001b[38;5;241m.\u001b[39mmakedirs(EXPORTS_DIR, exist_ok\u001b[38;5;241m=\u001b[39m\u001b[38;5;28;01mTrue\u001b[39;00m)\n\u001b[1;32m      9\u001b[0m \u001b[38;5;28;01mdef\u001b[39;00m \u001b[38;5;21mexport_dataframe\u001b[39m(df, \u001b[38;5;28mformat\u001b[39m\u001b[38;5;241m=\u001b[39m\u001b[38;5;124m\"\u001b[39m\u001b[38;5;124mcsv\u001b[39m\u001b[38;5;124m\"\u001b[39m, name\u001b[38;5;241m=\u001b[39m\u001b[38;5;124m\"\u001b[39m\u001b[38;5;124mexport\u001b[39m\u001b[38;5;124m\"\u001b[39m, full\u001b[38;5;241m=\u001b[39m\u001b[38;5;28;01mFalse\u001b[39;00m):\n\u001b[1;32m     10\u001b[0m     timestamp \u001b[38;5;241m=\u001b[39m datetime\u001b[38;5;241m.\u001b[39mnow()\u001b[38;5;241m.\u001b[39mstrftime(\u001b[38;5;124m\"\u001b[39m\u001b[38;5;124m%\u001b[39m\u001b[38;5;124mY\u001b[39m\u001b[38;5;124m%\u001b[39m\u001b[38;5;124mm\u001b[39m\u001b[38;5;132;01m%d\u001b[39;00m\u001b[38;5;124m_\u001b[39m\u001b[38;5;124m%\u001b[39m\u001b[38;5;124mH\u001b[39m\u001b[38;5;124m%\u001b[39m\u001b[38;5;124mM\u001b[39m\u001b[38;5;124m%\u001b[39m\u001b[38;5;124mS\u001b[39m\u001b[38;5;124m\"\u001b[39m)\n",
      "File \u001b[0;32m/opt/anaconda3/lib/python3.12/os.py:215\u001b[0m, in \u001b[0;36mmakedirs\u001b[0;34m(name, mode, exist_ok)\u001b[0m\n\u001b[1;32m    213\u001b[0m \u001b[38;5;28;01mif\u001b[39;00m head \u001b[38;5;129;01mand\u001b[39;00m tail \u001b[38;5;129;01mand\u001b[39;00m \u001b[38;5;129;01mnot\u001b[39;00m path\u001b[38;5;241m.\u001b[39mexists(head):\n\u001b[1;32m    214\u001b[0m     \u001b[38;5;28;01mtry\u001b[39;00m:\n\u001b[0;32m--> 215\u001b[0m         makedirs(head, exist_ok\u001b[38;5;241m=\u001b[39mexist_ok)\n\u001b[1;32m    216\u001b[0m     \u001b[38;5;28;01mexcept\u001b[39;00m \u001b[38;5;167;01mFileExistsError\u001b[39;00m:\n\u001b[1;32m    217\u001b[0m         \u001b[38;5;66;03m# Defeats race condition when another thread created the path\u001b[39;00m\n\u001b[1;32m    218\u001b[0m         \u001b[38;5;28;01mpass\u001b[39;00m\n",
      "File \u001b[0;32m/opt/anaconda3/lib/python3.12/os.py:225\u001b[0m, in \u001b[0;36mmakedirs\u001b[0;34m(name, mode, exist_ok)\u001b[0m\n\u001b[1;32m    223\u001b[0m         \u001b[38;5;28;01mreturn\u001b[39;00m\n\u001b[1;32m    224\u001b[0m \u001b[38;5;28;01mtry\u001b[39;00m:\n\u001b[0;32m--> 225\u001b[0m     mkdir(name, mode)\n\u001b[1;32m    226\u001b[0m \u001b[38;5;28;01mexcept\u001b[39;00m \u001b[38;5;167;01mOSError\u001b[39;00m:\n\u001b[1;32m    227\u001b[0m     \u001b[38;5;66;03m# Cannot rely on checking for EEXIST, since the operating system\u001b[39;00m\n\u001b[1;32m    228\u001b[0m     \u001b[38;5;66;03m# could give priority to other errors like EACCES or EROFS\u001b[39;00m\n\u001b[1;32m    229\u001b[0m     \u001b[38;5;28;01mif\u001b[39;00m \u001b[38;5;129;01mnot\u001b[39;00m exist_ok \u001b[38;5;129;01mor\u001b[39;00m \u001b[38;5;129;01mnot\u001b[39;00m path\u001b[38;5;241m.\u001b[39misdir(name):\n",
      "\u001b[0;31mOSError\u001b[0m: [Errno 30] Read-only file system: '/notebooks'"
     ]
    }
   ],
   "source": [
    "from covid_dashboard_presenter import plot_covid_data\n",
    "from export_utils import create_export_widget\n",
    "\n",
    "# Stel een gefilterde dataset samen (voorbeeld met dummy-waarden)\n",
    "df_filtered_tab1 = plot_covid_data(\n",
    "    df_full_tab1,\n",
    "    year=2021,\n",
    "    total_reported=True,\n",
    "    hospital_admission=False,\n",
    "    deceased=False,\n",
    "    province='Netherlands',\n",
    "    municipalities=False,\n",
    "    months=True\n",
    ")\n",
    "\n",
    "display(create_export_widget(df_filtered_tab1, df_full_tab1, \"tab1_data\"))"
   ]
  },
  {
   "cell_type": "markdown",
   "id": "ad2e4f4e",
   "metadata": {},
   "source": [
    "## 🧪 Overgeplaatste testcellen vanuit dashboard notebook"
   ]
  },
  {
   "cell_type": "code",
   "execution_count": null,
   "id": "1dee878f-bed4-4f6d-9721-f63abe2086cf",
   "metadata": {},
   "outputs": [],
   "source": [
    "# Test functie metric mapping\n",
    "from data_service import get_metric_mapping, get_available_years\n",
    "from data_loader import load_province_shapefile\n",
    "metric_mapping = get_metric_mapping()\n",
    "print(metric_mapping)"
   ]
  }
 ],
 "metadata": {
  "kernelspec": {
   "display_name": "Python 3 (ipykernel)",
   "language": "python",
   "name": "python3"
  },
  "language_info": {
   "codemirror_mode": {
    "name": "ipython",
    "version": 3
   },
   "file_extension": ".py",
   "mimetype": "text/x-python",
   "name": "python",
   "nbconvert_exporter": "python",
   "pygments_lexer": "ipython3",
   "version": "3.12.2"
  },
  "widgets": {
   "application/vnd.jupyter.widget-state+json": {
    "state": {},
    "version_major": 2,
    "version_minor": 0
   }
  }
 },
 "nbformat": 4,
 "nbformat_minor": 5
}
