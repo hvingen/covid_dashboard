{
 "cells": [
  {
   "cell_type": "markdown",
   "id": "fe552d34",
   "metadata": {},
   "source": [
    "# 📘 Snap-It Notebook\n",
    "\n",
    "Deze notebook bevat handige hulpfuncties en controles voor het COVID-dashboardproject."
   ]
  },
  {
   "cell_type": "markdown",
   "id": "b48bedf4",
   "metadata": {},
   "source": [
    "## 📦 Data-initialisatie"
   ]
  },
  {
   "cell_type": "code",
   "execution_count": null,
   "id": "26693781-c278-4c1b-bc31-d1ac2899a0c5",
   "metadata": {},
   "outputs": [],
   "source": []
  },
  {
   "cell_type": "code",
   "execution_count": 1,
   "id": "8d09a868-2826-422c-b6a1-2b557bb7a612",
   "metadata": {},
   "outputs": [
    {
     "name": "stdout",
     "output_type": "stream",
     "text": [
      "✅ Root toegevoegd aan sys.path\n",
      "✅ src toegevoegd aan sys.path\n"
     ]
    }
   ],
   "source": [
    "# 📦 Setup paths\n",
    "import sys\n",
    "from pathlib import Path\n",
    "\n",
    "project_root = Path().resolve().parent\n",
    "src_path = project_root / 'src'\n",
    "config_path = project_root / 'config.py'\n",
    "\n",
    "if config_path.exists() and str(project_root) not in sys.path:\n",
    "    sys.path.insert(0, str(project_root))\n",
    "    print('✅ Root toegevoegd aan sys.path')\n",
    "\n",
    "if src_path.exists() and str(src_path) not in sys.path:\n",
    "    sys.path.insert(0, str(src_path))\n",
    "    print('✅ src toegevoegd aan sys.path')\n"
   ]
  },
  {
   "cell_type": "code",
   "execution_count": 5,
   "id": "f49563fe",
   "metadata": {},
   "outputs": [
    {
     "name": "stdout",
     "output_type": "stream",
     "text": [
      "🧠 Actieve Python-interpreter:\n",
      "/opt/anaconda3/bin/python\n",
      "\n",
      "📁 Huidige werkmap:\n",
      "/Users/hvingen/Repositories/OU_Project/covid_dashboard/notebooks\n",
      "\n",
      "📦 Controle of de modules goed staan\n",
      "✅ Het 'src' package is gevonden.\n",
      "⤷ Locatie: /Users/hvingen/Repositories/OU_Project/covid_dashboard/src/__init__.py\n"
     ]
    }
   ],
   "source": [
    "import sys\n",
    "import os\n",
    "from pathlib import Path\n",
    "import importlib.util\n",
    "\n",
    "def check_env():\n",
    "    print(\"🧠 Actieve Python-interpreter:\")\n",
    "    print(sys.executable)\n",
    "    print(\"\\n📁 Huidige werkmap:\")\n",
    "    print(os.getcwd())\n",
    "\n",
    "    print(\"\\n📦 Controle of de modules goed staan\")\n",
    "    spec = importlib.util.find_spec(\"src\")\n",
    "    if spec is None:\n",
    "        print(\"❌ De 'src' map is niet gevonden. Mogelijk verkeerde kernel actief.\")\n",
    "    else:\n",
    "        print(\"✅ Het 'src' package is gevonden.\")\n",
    "        print(f\"⤷ Locatie: {spec.origin}\")\n",
    "\n",
    "# Run de controle\n",
    "check_env()"
   ]
  },
  {
   "cell_type": "code",
   "execution_count": 3,
   "id": "cba38927",
   "metadata": {},
   "outputs": [
    {
     "ename": "ImportError",
     "evalue": "cannot import name 'Dataframes' from 'data_loader' (/Users/hvingen/Repositories/OU_Project/covid_dashboard/src/data_loader.py)",
     "output_type": "error",
     "traceback": [
      "\u001b[0;31m---------------------------------------------------------------------------\u001b[0m",
      "\u001b[0;31mImportError\u001b[0m                               Traceback (most recent call last)",
      "Cell \u001b[0;32mIn[3], line 1\u001b[0m\n\u001b[0;32m----> 1\u001b[0m \u001b[38;5;28;01mfrom\u001b[39;00m \u001b[38;5;21;01mdata_loader\u001b[39;00m \u001b[38;5;28;01mimport\u001b[39;00m Dataframes\n\u001b[1;32m      3\u001b[0m dfs \u001b[38;5;241m=\u001b[39m Dataframes()\n\u001b[1;32m      5\u001b[0m \u001b[38;5;66;03m# 👉 Voorbeeld: volledige dataset ophalen\u001b[39;00m\n",
      "\u001b[0;31mImportError\u001b[0m: cannot import name 'Dataframes' from 'data_loader' (/Users/hvingen/Repositories/OU_Project/covid_dashboard/src/data_loader.py)"
     ]
    }
   ],
   "source": [
    "from data_loader import Dataframes\n",
    "\n",
    "dfs = Dataframes()\n",
    "\n",
    "# 👉 Voorbeeld: volledige dataset ophalen\n",
    "df_full_tab1 = dfs.get_merged_and_clean_dataset()"
   ]
  },
  {
   "cell_type": "markdown",
   "id": "4b156999",
   "metadata": {},
   "source": [
    "## 📊 Data controleren"
   ]
  },
  {
   "cell_type": "code",
   "execution_count": null,
   "id": "99f6b12e",
   "metadata": {},
   "outputs": [],
   "source": [
    "# Toon eerste regels df full tab1\n",
    "if df_full_tab1 is not None:\n",
    "    display(df_full_tab1.head())\n",
    "else:\n",
    "    print('❌ Geen merged dataset geladen.')"
   ]
  },
  {
   "cell_type": "markdown",
   "id": "7862cc9f-644b-4263-8ef4-0447eda96116",
   "metadata": {},
   "source": [
    "## 📊 Data controleren"
   ]
  },
  {
   "cell_type": "code",
   "execution_count": null,
   "id": "71e556f8-9a02-4843-8384-1b7802faf29b",
   "metadata": {
    "scrolled": true
   },
   "outputs": [],
   "source": [
    "# Test shapefile laden\n",
    "from data_service import get_metric_mapping, get_available_years\n",
    "from data_loader import load_province_shapefile\n",
    "province_gdf = load_province_shapefile()\n",
    "print(province_gdf.head())"
   ]
  },
  {
   "cell_type": "markdown",
   "id": "ec8d7ed5",
   "metadata": {},
   "source": [
    "## 📤 Export testen (klein / groot, alle formats)"
   ]
  },
  {
   "cell_type": "code",
   "execution_count": null,
   "id": "e32b1741",
   "metadata": {},
   "outputs": [],
   "source": [
    "from covid_dashboard_presenter import plot_covid_data\n",
    "from export_utils import create_export_widget\n",
    "\n",
    "# Stel een gefilterde dataset samen (voorbeeld met dummy-waarden)\n",
    "df_filtered_tab1 = plot_covid_data(\n",
    "    df_full_tab1,\n",
    "    year=2021,\n",
    "    total_reported=True,\n",
    "    hospital_admission=False,\n",
    "    deceased=False,\n",
    "    province='Netherlands',\n",
    "    municipalities=False,\n",
    "    months=True\n",
    ")\n",
    "\n",
    "display(create_export_widget(df_filtered_tab1, df_full_tab1, \"tab1_data\"))"
   ]
  },
  {
   "cell_type": "markdown",
   "id": "ad2e4f4e",
   "metadata": {},
   "source": [
    "## 🧪 Overgeplaatste testcellen vanuit dashboard notebook"
   ]
  },
  {
   "cell_type": "code",
   "execution_count": null,
   "id": "1dee878f-bed4-4f6d-9721-f63abe2086cf",
   "metadata": {},
   "outputs": [],
   "source": [
    "# Test functie metric mapping\n",
    "from data_service import get_metric_mapping, get_available_years\n",
    "from data_loader import load_province_shapefile\n",
    "metric_mapping = get_metric_mapping()\n",
    "print(metric_mapping)"
   ]
  }
 ],
 "metadata": {
  "kernelspec": {
   "display_name": "Python 3 (ipykernel)",
   "language": "python",
   "name": "python3"
  },
  "language_info": {
   "codemirror_mode": {
    "name": "ipython",
    "version": 3
   },
   "file_extension": ".py",
   "mimetype": "text/x-python",
   "name": "python",
   "nbconvert_exporter": "python",
   "pygments_lexer": "ipython3",
   "version": "3.12.2"
  },
  "widgets": {
   "application/vnd.jupyter.widget-state+json": {
    "state": {},
    "version_major": 2,
    "version_minor": 0
   }
  }
 },
 "nbformat": 4,
 "nbformat_minor": 5
}
