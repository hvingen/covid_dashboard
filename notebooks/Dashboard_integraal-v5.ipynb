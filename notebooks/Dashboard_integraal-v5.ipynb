{
 "cells": [
  {
   "cell_type": "markdown",
   "id": "5e6eb136",
   "metadata": {},
   "source": [
    "# 🧭 Covid Dashboard v5\n",
    "\n"
   ]
  },
  {
   "cell_type": "code",
   "execution_count": 1,
   "id": "2c75da73-1926-4edd-a006-dcfa85be94cd",
   "metadata": {},
   "outputs": [],
   "source": [
    "# 📦 Widget imports (gegarandeerd bovenaan)\n",
    "import ipywidgets as widgets"
   ]
  },
  {
   "cell_type": "code",
   "execution_count": 2,
   "id": "445f0b91",
   "metadata": {},
   "outputs": [
    {
     "name": "stdout",
     "output_type": "stream",
     "text": [
      "✅ geopandas geïnstalleerd\n",
      "✅ numpy geïnstalleerd\n",
      "✅ fiona geïnstalleerd\n",
      "✅ shapely geïnstalleerd\n",
      "✅ matplotlib geïnstalleerd\n",
      "✅ ipywidgets geïnstalleerd\n",
      "✅ seaborn geïnstalleerd\n"
     ]
    }
   ],
   "source": [
    "# 📦 Vereiste packages checken\n",
    "import importlib\n",
    "packages = ['geopandas', 'numpy', 'fiona', 'shapely', 'matplotlib', 'ipywidgets', 'seaborn']\n",
    "for pkg in packages:\n",
    "    try:\n",
    "        importlib.import_module(pkg)\n",
    "        print(f'✅ {pkg} geïnstalleerd')\n",
    "    except ImportError:\n",
    "        print(f'⚠️ {pkg} NIET geïnstalleerd')"
   ]
  },
  {
   "cell_type": "code",
   "execution_count": 3,
   "id": "24a8fbaf",
   "metadata": {
    "jupyter": {
     "source_hidden": true
    }
   },
   "outputs": [
    {
     "name": "stdout",
     "output_type": "stream",
     "text": [
      "Werkdirectory ingesteld op: /Users/hvingen/repo/ou/covid_dashboard_v5/covid_dashboard/notebooks\n"
     ]
    }
   ],
   "source": [
    "# 📂 Paden instellen + modules laden\n",
    "import os, sys\n",
    "from pathlib import Path\n",
    "\n",
    "project_root = Path.cwd()\n",
    "while not (project_root / 'config.py').exists() and project_root != project_root.parent:\n",
    "    project_root = project_root.parent\n",
    "sys.path.insert(0, project_root.as_posix())\n",
    "\n",
    "from config import SRC_DIR, CSV_DIR\n",
    "if SRC_DIR.as_posix() not in sys.path:\n",
    "    sys.path.insert(0, SRC_DIR.as_posix())\n",
    "\n",
    "print('Werkdirectory ingesteld op:', os.getcwd())"
   ]
  },
  {
   "cell_type": "code",
   "execution_count": 4,
   "id": "be568633",
   "metadata": {
    "jupyter": {
     "source_hidden": true
    }
   },
   "outputs": [
    {
     "name": "stdout",
     "output_type": "stream",
     "text": [
      "Beschikbare kolommen in df: ['Total_reported', 'Deceased', 'Hospital_admission', 'Municipality_name_merged', 'Province_merged', 'Year', 'Month', 'Month_name']\n"
     ]
    }
   ],
   "source": [
    "# 📂 Lijst beschikbare kolommen in de schone COVID dataset\n",
    "import data_service\n",
    "\n",
    "df = data_service.get_prepared_covid_dataset()\n",
    "print(\"Beschikbare kolommen in df:\", df.columns.tolist())"
   ]
  },
  {
   "cell_type": "code",
   "execution_count": 5,
   "id": "621dc57e",
   "metadata": {},
   "outputs": [],
   "source": [
    "# 🧾 Plot-titel dynamisch genereren\n",
    "# if 'gdf' in locals():\n",
    "#     perc = int(sampling_dropdown.value * 100)\n",
    "#     filename = gpkg_selector.label if hasattr(gpkg_selector, 'label') else gpkg_selector.value.name\n",
    "#     title = f'{filename} | Layer: {layer_selector.value} | Sampling: {perc}%'\n",
    "#     print(title)\n",
    "# else:\n",
    "#     print('⚠️ Geen gegevens geladen voor plot-titel')"
   ]
  },
  {
   "cell_type": "code",
   "execution_count": 6,
   "id": "0e4a1526",
   "metadata": {},
   "outputs": [
    {
     "name": "stdout",
     "output_type": "stream",
     "text": [
      "Werkdirectory ingesteld op: /Users/hvingen/repo/ou/covid_dashboard_v5/covid_dashboard/notebooks\n"
     ]
    },
    {
     "data": {
      "application/vnd.jupyter.widget-view+json": {
       "model_id": "c187f53e0f474f10b0407eaae7ee1573",
       "version_major": 2,
       "version_minor": 0
      },
      "text/plain": [
       "Tab(children=(Output(), Output(), Output()), selected_index=0, titles=('Corona', 'Heatmap', 'Rioolwater'))"
      ]
     },
     "metadata": {},
     "output_type": "display_data"
    }
   ],
   "source": [
    "# 🎨 Layoutfixes en preview verbeteringen (v003h)\n",
    "# 📂 Paden instellen + modules laden\n",
    "import os, sys\n",
    "from pathlib import Path\n",
    "\n",
    "\n",
    "project_root = Path.cwd()\n",
    "while not (project_root / 'config.py').exists() and project_root != project_root.parent:\n",
    "    project_root = project_root.parent\n",
    "sys.path.insert(0, project_root.as_posix())\n",
    "\n",
    "from config import SRC_DIR, CSV_DIR\n",
    "if SRC_DIR.as_posix() not in sys.path:\n",
    "    sys.path.insert(0, SRC_DIR.as_posix())\n",
    "\n",
    "print('Werkdirectory ingesteld op:', os.getcwd())\n",
    "\n",
    "import data_service \n",
    "from data_service import get_metric_mapping, get_available_years\n",
    "import covid_dashboard_presenter\n",
    "from IPython.display import display\n",
    "from ipywidgets import Button, Layout, Textarea, HBox, VBox\n",
    "\n",
    "from data_service import get_province_heatmap_data\n",
    "from data_service import get_municipality_heatmap_data\n",
    "from data_service import get_province_heatmap_riool_data\n",
    "from data_service import get_municipality_heatmap_riool_data\n",
    "\n",
    "from covid_dashboard_presenter import plot_province_heatmap\n",
    "from covid_dashboard_presenter import plot_municipality_heatmap\n",
    "from covid_dashboard_presenter import plot_province_heatmap_riool\n",
    "from covid_dashboard_presenter import plot_municipality_heatmap_riool\n",
    "\n",
    "# Let Municipalities checkbox flip exclusive\n",
    "def on_municipalities_change(change):\n",
    "    if change['new'] == True:\n",
    "        months_checkbox.value = False\n",
    "\n",
    "# Let Months checkbox flip exclusive\n",
    "def on_months_change(change):\n",
    "    if change['new'] == True:\n",
    "        municipalities_checkbox.value = False\n",
    "\n",
    "# Plot Covid GUI\n",
    "def update_plot(year, total_reported, hospital_admission, deceased, province, municipalities, months):\n",
    "    covid_dashboard_presenter.update_plot(df,\n",
    "                                        year, \n",
    "                                        total_reported, \n",
    "                                        hospital_admission, \n",
    "                                        deceased, \n",
    "                                        province, \n",
    "                                        municipalities, \n",
    "                                        months)  \n",
    "\n",
    "def update_province_heatmap(year, column):\n",
    "    gdf = get_province_heatmap_data(year)\n",
    "    plot_province_heatmap(gdf, column=column)\n",
    "\n",
    "# Functie om de heatmap bij te werken\n",
    "def update_municipality_heatmap(year, metric):\n",
    "    gdf = get_municipality_heatmap_data(year)\n",
    "    plot_municipality_heatmap(gdf, metric=metric)\n",
    "\n",
    "# Plot Rioolwater GUI\n",
    "def update_plot_riool(year):\n",
    "    covid_dashboard_presenter.update_plot_riool(year)  \n",
    "\n",
    "# Create a list of outs for tabs\n",
    "out1 = widgets.Output()\n",
    "out2 = widgets.Output()\n",
    "out3 = widgets.Output()\n",
    "\n",
    "# Create a list of tabs for GUI\n",
    "tab = widgets.Tab(children = [out1, out2, out3])\n",
    "tab.set_title(0, 'Corona')\n",
    "tab.set_title(1, 'Heatmap')\n",
    "tab.set_title(2, 'Rioolwater')\n",
    "# display(tab)\n",
    "\n",
    "with out1:\n",
    "    # Create dashboard widgets for UI controls\n",
    "    title_widget1 = widgets.HTML(\"<h3 style='text-align:center;'>COVID-Dataset</h3>\")\n",
    "\n",
    "    year_dropdown = widgets.Dropdown(description='Year:', options=get_available_years(df))\n",
    "    total_reported_checkbox = widgets.Checkbox(value=True, description='Total reported')\n",
    "    hospital_admission_checkbox = widgets.Checkbox(value=True, description='Hospital admission')\n",
    "    deceased_checkbox = widgets.Checkbox(value=True, description='Deceased')\n",
    "    province_dropdown = widgets.Dropdown(description='Level:', options=['Netherlands', 'All provinces'] + df['Province_merged'].dropna().unique().tolist(), value='Netherlands')\n",
    "    municipalities_checkbox = widgets.Checkbox(value=True, description='Municipalities')\n",
    "    months_checkbox = widgets.Checkbox(value=False, description='Months')\n",
    "    months_checkbox.observe(on_months_change, names='value')\n",
    "    municipalities_checkbox.observe(on_municipalities_change, names='value')\n",
    "\n",
    "    row1 = VBox( [year_dropdown, total_reported_checkbox, hospital_admission_checkbox, deceased_checkbox, province_dropdown, municipalities_checkbox, months_checkbox] )\n",
    "    # row2 = HBox( [year_dropdown, total_reported_checkbox] )\n",
    "    # ui = VBox( [row1, row2] )\n",
    "    ui = VBox( [title_widget1, row1] )\n",
    "    out = widgets.interactive_output(update_plot, {'year':year_dropdown, 'total_reported':total_reported_checkbox, 'hospital_admission':hospital_admission_checkbox, 'deceased':deceased_checkbox, 'province': province_dropdown, 'municipalities': municipalities_checkbox, 'months': months_checkbox} )\n",
    "    display(ui, out)  \n",
    "    \n",
    "with out2:              \n",
    "    title_widget2 = widgets.HTML(\"<h3 style='text-align:center;'>Heatmap Provinces</h3>\")\n",
    "\n",
    "    year_dropdown = widgets.Dropdown(\n",
    "        description='Year:',\n",
    "        options=get_available_years(df)\n",
    "    )\n",
    "\n",
    "    # Mapping: zichtbare naam -> kolomnaam in de dataset\n",
    "    metric_options = get_metric_mapping()\n",
    "    metric_dropdown = widgets.Dropdown(\n",
    "        description='Metric:',\n",
    "        options=list(metric_options.keys()),\n",
    "        value='Total reported'\n",
    "    )\n",
    "\n",
    "    region_dropdown = widgets.Dropdown(\n",
    "        description='Level:',\n",
    "        options=['Provinces', 'Municipalities'],\n",
    "        value='Provinces'\n",
    "    )\n",
    "\n",
    "    def update_heatmap(year, metric_label, region_type):\n",
    "        title_text = 'Heatmap ' + region_type\n",
    "        title_widget2.value = f\"<h3 style='text-align:center;'>{title_text}</h3>\"\n",
    "        metric = metric_options[metric_label]\n",
    "        if region_type == 'Provinces':\n",
    "            gdf = get_province_heatmap_data(year)\n",
    "            plot_province_heatmap(gdf, column=metric)\n",
    "        else:\n",
    "            gdf = get_municipality_heatmap_data(year)\n",
    "            plot_municipality_heatmap(gdf, column=metric)\n",
    "\n",
    "    ui = VBox([title_widget2, year_dropdown, metric_dropdown, region_dropdown])\n",
    "    out = widgets.interactive_output(update_heatmap, {\n",
    "        'year': year_dropdown,\n",
    "        'metric_label': metric_dropdown,\n",
    "        'region_type': region_dropdown\n",
    "    })\n",
    "    display(ui, out)\n",
    "\n",
    "\n",
    "with out3:          \n",
    "    # Create dashboard widgets for UI controls\n",
    "    # year_dropdown = widgets.Dropdown(description='Year:', options=df_riool['Year'].dropna().sort_values().unique().tolist())\n",
    "    title_widget3 = widgets.HTML(\"<h3 style='text-align:center;'>Heatmap Riool</h3>\")\n",
    "\n",
    "    year_dropdown = widgets.Dropdown(\n",
    "        description='Year:',\n",
    "        options=get_available_years(df)\n",
    "    )\n",
    "\n",
    "    region_dropdown = widgets.Dropdown(\n",
    "        description='Level:',\n",
    "        options=['Provinces', 'Municipalities'],\n",
    "        value='Provinces'\n",
    "    )\n",
    "\n",
    "    def update_heatmap_riool(year, region_type):\n",
    "        title_text = 'Heatmap ' + region_type\n",
    "        title_widget2.value = f\"<h3 style='text-align:center;'>{title_text}</h3>\"\n",
    "        if region_type == 'Provinces':\n",
    "            gdf = get_province_heatmap_riool_data(year)\n",
    "            plot_province_heatmap_riool(gdf)\n",
    "        else:\n",
    "            gdf = get_municipality_heatmap_riool_data(year)\n",
    "            plot_municipality_heatmap_riool(gdf)\n",
    "\n",
    "    ui = VBox([title_widget3, year_dropdown, region_dropdown])\n",
    "    out = widgets.interactive_output(update_heatmap_riool, {\n",
    "        'year': year_dropdown,\n",
    "        'region_type': region_dropdown\n",
    "    })\n",
    "    display(ui, out)\n",
    "\n",
    "\n",
    "display(tab)"
   ]
  }
 ],
 "metadata": {
  "kernelspec": {
   "display_name": "Python 3 (ipykernel)",
   "language": "python",
   "name": "python3"
  },
  "language_info": {
   "codemirror_mode": {
    "name": "ipython",
    "version": 3
   },
   "file_extension": ".py",
   "mimetype": "text/x-python",
   "name": "python",
   "nbconvert_exporter": "python",
   "pygments_lexer": "ipython3",
   "version": "3.12.3"
  },
  "widgets": {
   "application/vnd.jupyter.widget-state+json": {
    "state": {
     "02b1f4194ab94df48aa26ebe2e3f2cec": {
      "model_module": "@jupyter-widgets/controls",
      "model_module_version": "2.0.0",
      "model_name": "CheckboxModel",
      "state": {
       "description": "Months",
       "disabled": false,
       "layout": "IPY_MODEL_58e1d635e1f34a6ba4150235930177d4",
       "style": "IPY_MODEL_a0e14aca837f4f0480602ce4b934a963",
       "value": false
      }
     },
     "101c636643114981a11e3cb252778ddb": {
      "model_module": "@jupyter-widgets/controls",
      "model_module_version": "2.0.0",
      "model_name": "HTMLModel",
      "state": {
       "layout": "IPY_MODEL_24d0b7b71db540b5bd224fe850bc4a99",
       "style": "IPY_MODEL_a95f599f779c43f898eec5a36b03bf44",
       "value": "<h3 style='text-align:center;'>Heatmap Provinces</h3>"
      }
     },
     "12fe42c5fba64483857a39e1b08de96b": {
      "model_module": "@jupyter-widgets/controls",
      "model_module_version": "2.0.0",
      "model_name": "HTMLStyleModel",
      "state": {
       "description_width": "",
       "font_size": null,
       "text_color": null
      }
     },
     "17cc644f3aa94a4fb790f311f84c0124": {
      "model_module": "@jupyter-widgets/base",
      "model_module_version": "2.0.0",
      "model_name": "LayoutModel",
      "state": {}
     },
     "19aa36408b49482c972facbe1d18c6f6": {
      "model_module": "@jupyter-widgets/base",
      "model_module_version": "2.0.0",
      "model_name": "LayoutModel",
      "state": {}
     },
     "1fde734eca374a1aafd55fdc3467a205": {
      "model_module": "@jupyter-widgets/controls",
      "model_module_version": "2.0.0",
      "model_name": "DropdownModel",
      "state": {
       "_options_labels": [
        "Provinces",
        "Municipalities"
       ],
       "description": "Level:",
       "index": 0,
       "layout": "IPY_MODEL_fb3fe22da8bb4f38b109089a859efd6f",
       "style": "IPY_MODEL_243b4767c5184dc79f10e8f2e4e389a0"
      }
     },
     "2052a34eef60470381cb7df35cc7ef8a": {
      "model_module": "@jupyter-widgets/output",
      "model_module_version": "1.0.0",
      "model_name": "OutputModel",
      "state": {
       "layout": "IPY_MODEL_47b6d7b42c894ad3a15b5d35fd12d413",
       "outputs": [
        {
         "data": {
          "image/png": "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",
          "text/plain": "<Figure size 600x600 with 2 Axes>"
         },
         "metadata": {},
         "output_type": "display_data"
        }
       ]
      }
     },
     "243b4767c5184dc79f10e8f2e4e389a0": {
      "model_module": "@jupyter-widgets/controls",
      "model_module_version": "2.0.0",
      "model_name": "DescriptionStyleModel",
      "state": {
       "description_width": ""
      }
     },
     "24d0b7b71db540b5bd224fe850bc4a99": {
      "model_module": "@jupyter-widgets/base",
      "model_module_version": "2.0.0",
      "model_name": "LayoutModel",
      "state": {}
     },
     "2788c8bcc5f848e9a0b62438f7471e99": {
      "model_module": "@jupyter-widgets/controls",
      "model_module_version": "2.0.0",
      "model_name": "VBoxModel",
      "state": {
       "children": [
        "IPY_MODEL_b9427287eb0840fa9e36b456f270ff90",
        "IPY_MODEL_d753dc1d67b44093a73e9506143dc579",
        "IPY_MODEL_b414537e622f43f3923d0be04fa73705",
        "IPY_MODEL_6cc02ece31b74c9abd86f3fdcaffa059",
        "IPY_MODEL_72841378657847b486e5169130437249",
        "IPY_MODEL_a378c366dcae4256afc8ad79ee253050",
        "IPY_MODEL_02b1f4194ab94df48aa26ebe2e3f2cec"
       ],
       "layout": "IPY_MODEL_e382a1e991074f0bab10fc532c319a9c"
      }
     },
     "2ad6670f1f0c41c48ebf795299972f7d": {
      "model_module": "@jupyter-widgets/base",
      "model_module_version": "2.0.0",
      "model_name": "LayoutModel",
      "state": {}
     },
     "2fb9c50f705c471ca52b8924903d5a79": {
      "model_module": "@jupyter-widgets/base",
      "model_module_version": "2.0.0",
      "model_name": "LayoutModel",
      "state": {}
     },
     "35f3d00ee5a64f8185d0a51c589bdd0c": {
      "model_module": "@jupyter-widgets/controls",
      "model_module_version": "2.0.0",
      "model_name": "DescriptionStyleModel",
      "state": {
       "description_width": ""
      }
     },
     "3824273c17a74040acca03f6a5575d6d": {
      "model_module": "@jupyter-widgets/output",
      "model_module_version": "1.0.0",
      "model_name": "OutputModel",
      "state": {
       "layout": "IPY_MODEL_17cc644f3aa94a4fb790f311f84c0124",
       "outputs": [
        {
         "data": {
          "image/png": "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",
          "text/plain": "<Figure size 1500x600 with 1 Axes>"
         },
         "metadata": {},
         "output_type": "display_data"
        }
       ]
      }
     },
     "3981d69230ec468d922c680da573ffdc": {
      "model_module": "@jupyter-widgets/controls",
      "model_module_version": "2.0.0",
      "model_name": "DropdownModel",
      "state": {
       "_options_labels": [
        "2020",
        "2021",
        "2022",
        "2023",
        "2024"
       ],
       "description": "Year:",
       "index": 0,
       "layout": "IPY_MODEL_58a2e3a2bbce4965abc736715beb544d",
       "style": "IPY_MODEL_5d66d59b66a44e48a7b4dab0fb0d8f30"
      }
     },
     "464d2d74166746739323f5467f6bf1e2": {
      "model_module": "@jupyter-widgets/output",
      "model_module_version": "1.0.0",
      "model_name": "OutputModel",
      "state": {
       "layout": "IPY_MODEL_963c09085b97424fab4249815ba4a10d",
       "outputs": [
        {
         "data": {
          "application/vnd.jupyter.widget-view+json": {
           "model_id": "5c427e274c43410b870bcb27a827f8e4",
           "version_major": 2,
           "version_minor": 0
          },
          "text/plain": "VBox(children=(HTML(value=\"<h3 style='text-align:center;'>COVID-Dataset</h3>\"), VBox(children=(Dropdown(descri…"
         },
         "metadata": {},
         "output_type": "display_data"
        },
        {
         "data": {
          "application/vnd.jupyter.widget-view+json": {
           "model_id": "3824273c17a74040acca03f6a5575d6d",
           "version_major": 2,
           "version_minor": 0
          },
          "text/plain": "Output()"
         },
         "metadata": {},
         "output_type": "display_data"
        }
       ]
      }
     },
     "47b6d7b42c894ad3a15b5d35fd12d413": {
      "model_module": "@jupyter-widgets/base",
      "model_module_version": "2.0.0",
      "model_name": "LayoutModel",
      "state": {}
     },
     "58a2e3a2bbce4965abc736715beb544d": {
      "model_module": "@jupyter-widgets/base",
      "model_module_version": "2.0.0",
      "model_name": "LayoutModel",
      "state": {}
     },
     "58e1d635e1f34a6ba4150235930177d4": {
      "model_module": "@jupyter-widgets/base",
      "model_module_version": "2.0.0",
      "model_name": "LayoutModel",
      "state": {}
     },
     "5c07105be5a440cb9c64e42074a41b14": {
      "model_module": "@jupyter-widgets/controls",
      "model_module_version": "2.0.0",
      "model_name": "DropdownModel",
      "state": {
       "_options_labels": [
        "Provinces",
        "Municipalities"
       ],
       "description": "Level:",
       "index": 0,
       "layout": "IPY_MODEL_84fa73a97677463aa64e8431f889c119",
       "style": "IPY_MODEL_a63ab46dbef747cfa9ec42e302d83d78"
      }
     },
     "5c427e274c43410b870bcb27a827f8e4": {
      "model_module": "@jupyter-widgets/controls",
      "model_module_version": "2.0.0",
      "model_name": "VBoxModel",
      "state": {
       "children": [
        "IPY_MODEL_abecfd28ed5447fe9e0a26541b9c598a",
        "IPY_MODEL_2788c8bcc5f848e9a0b62438f7471e99"
       ],
       "layout": "IPY_MODEL_2ad6670f1f0c41c48ebf795299972f7d"
      }
     },
     "5d66d59b66a44e48a7b4dab0fb0d8f30": {
      "model_module": "@jupyter-widgets/controls",
      "model_module_version": "2.0.0",
      "model_name": "DescriptionStyleModel",
      "state": {
       "description_width": ""
      }
     },
     "5e181e834c524fb08ed801945a68ff02": {
      "model_module": "@jupyter-widgets/controls",
      "model_module_version": "2.0.0",
      "model_name": "CheckboxStyleModel",
      "state": {
       "description_width": ""
      }
     },
     "5f9f829613d94e3a933f6eb02defe196": {
      "model_module": "@jupyter-widgets/output",
      "model_module_version": "1.0.0",
      "model_name": "OutputModel",
      "state": {
       "layout": "IPY_MODEL_ae450254144c48b6b83adb25659abacd",
       "outputs": [
        {
         "data": {
          "image/png": "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",
          "text/plain": "<Figure size 600x600 with 2 Axes>"
         },
         "metadata": {},
         "output_type": "display_data"
        }
       ]
      }
     },
     "609fadec02b94e5d8196ed2a1d6bcf6e": {
      "model_module": "@jupyter-widgets/controls",
      "model_module_version": "2.0.0",
      "model_name": "VBoxModel",
      "state": {
       "children": [
        "IPY_MODEL_101c636643114981a11e3cb252778ddb",
        "IPY_MODEL_9d85cbb11cbd4b7aaa4c7e44d5d8a57e",
        "IPY_MODEL_bb65f72d3bfa4766822eaf76eb790832",
        "IPY_MODEL_5c07105be5a440cb9c64e42074a41b14"
       ],
       "layout": "IPY_MODEL_edaa8e01034a447d837698a4fd2d91a2"
      }
     },
     "62424668797b443f8eedef24ee227453": {
      "model_module": "@jupyter-widgets/controls",
      "model_module_version": "2.0.0",
      "model_name": "CheckboxStyleModel",
      "state": {
       "description_width": ""
      }
     },
     "6cc02ece31b74c9abd86f3fdcaffa059": {
      "model_module": "@jupyter-widgets/controls",
      "model_module_version": "2.0.0",
      "model_name": "CheckboxModel",
      "state": {
       "description": "Deceased",
       "disabled": false,
       "layout": "IPY_MODEL_19aa36408b49482c972facbe1d18c6f6",
       "style": "IPY_MODEL_a387fb4844e1402c93c3af91fadc2b97",
       "value": true
      }
     },
     "6deb0b0c84ff448dbda9b02251c56ed1": {
      "model_module": "@jupyter-widgets/controls",
      "model_module_version": "2.0.0",
      "model_name": "CheckboxStyleModel",
      "state": {
       "description_width": ""
      }
     },
     "72841378657847b486e5169130437249": {
      "model_module": "@jupyter-widgets/controls",
      "model_module_version": "2.0.0",
      "model_name": "DropdownModel",
      "state": {
       "_options_labels": [
        "Netherlands",
        "All provinces",
        "Drenthe",
        "Flevoland",
        "Fryslân",
        "Groningen",
        "Overijssel",
        "Gelderland",
        "Utrecht",
        "Noord-Holland",
        "Zuid-Holland",
        "Zeeland",
        "Noord-Brabant",
        "Limburg"
       ],
       "description": "Level:",
       "index": 0,
       "layout": "IPY_MODEL_f3a43559a13749328e01c94e3169b997",
       "style": "IPY_MODEL_b232039c8fc247debf65def6da0a5ebf"
      }
     },
     "730b0220b15d4b41b73d800dbed54d18": {
      "model_module": "@jupyter-widgets/output",
      "model_module_version": "1.0.0",
      "model_name": "OutputModel",
      "state": {
       "layout": "IPY_MODEL_df1be7803e554488bee4921ecaf85bc8",
       "outputs": [
        {
         "data": {
          "application/vnd.jupyter.widget-view+json": {
           "model_id": "f534c26ecd6e440faff445007ea2d566",
           "version_major": 2,
           "version_minor": 0
          },
          "text/plain": "VBox(children=(HTML(value=\"<h3 style='text-align:center;'>Heatmap Riool</h3>\"), Dropdown(description='Year:', …"
         },
         "metadata": {},
         "output_type": "display_data"
        },
        {
         "data": {
          "application/vnd.jupyter.widget-view+json": {
           "model_id": "2052a34eef60470381cb7df35cc7ef8a",
           "version_major": 2,
           "version_minor": 0
          },
          "text/plain": "Output()"
         },
         "metadata": {},
         "output_type": "display_data"
        }
       ]
      }
     },
     "83758492cba94193b108db271757883b": {
      "model_module": "@jupyter-widgets/base",
      "model_module_version": "2.0.0",
      "model_name": "LayoutModel",
      "state": {}
     },
     "8498c259d5ad44939e3b4c8e120afbb5": {
      "model_module": "@jupyter-widgets/output",
      "model_module_version": "1.0.0",
      "model_name": "OutputModel",
      "state": {
       "layout": "IPY_MODEL_9fa9178e5884473cb73e827af7e2ccd7",
       "outputs": [
        {
         "data": {
          "application/vnd.jupyter.widget-view+json": {
           "model_id": "609fadec02b94e5d8196ed2a1d6bcf6e",
           "version_major": 2,
           "version_minor": 0
          },
          "text/plain": "VBox(children=(HTML(value=\"<h3 style='text-align:center;'>Heatmap Provinces</h3>\"), Dropdown(description='Year…"
         },
         "metadata": {},
         "output_type": "display_data"
        },
        {
         "data": {
          "application/vnd.jupyter.widget-view+json": {
           "model_id": "5f9f829613d94e3a933f6eb02defe196",
           "version_major": 2,
           "version_minor": 0
          },
          "text/plain": "Output()"
         },
         "metadata": {},
         "output_type": "display_data"
        }
       ]
      }
     },
     "84fa73a97677463aa64e8431f889c119": {
      "model_module": "@jupyter-widgets/base",
      "model_module_version": "2.0.0",
      "model_name": "LayoutModel",
      "state": {}
     },
     "963c09085b97424fab4249815ba4a10d": {
      "model_module": "@jupyter-widgets/base",
      "model_module_version": "2.0.0",
      "model_name": "LayoutModel",
      "state": {}
     },
     "9b87d92ce1be49ddb8d642b0efa7d07d": {
      "model_module": "@jupyter-widgets/controls",
      "model_module_version": "2.0.0",
      "model_name": "DescriptionStyleModel",
      "state": {
       "description_width": ""
      }
     },
     "9d85cbb11cbd4b7aaa4c7e44d5d8a57e": {
      "model_module": "@jupyter-widgets/controls",
      "model_module_version": "2.0.0",
      "model_name": "DropdownModel",
      "state": {
       "_options_labels": [
        "2020",
        "2021",
        "2022",
        "2023",
        "2024"
       ],
       "description": "Year:",
       "index": 1,
       "layout": "IPY_MODEL_2fb9c50f705c471ca52b8924903d5a79",
       "style": "IPY_MODEL_35f3d00ee5a64f8185d0a51c589bdd0c"
      }
     },
     "9fa9178e5884473cb73e827af7e2ccd7": {
      "model_module": "@jupyter-widgets/base",
      "model_module_version": "2.0.0",
      "model_name": "LayoutModel",
      "state": {}
     },
     "a071ff06a82e470ab421b6f74466f592": {
      "model_module": "@jupyter-widgets/base",
      "model_module_version": "2.0.0",
      "model_name": "LayoutModel",
      "state": {}
     },
     "a0e14aca837f4f0480602ce4b934a963": {
      "model_module": "@jupyter-widgets/controls",
      "model_module_version": "2.0.0",
      "model_name": "CheckboxStyleModel",
      "state": {
       "description_width": ""
      }
     },
     "a378c366dcae4256afc8ad79ee253050": {
      "model_module": "@jupyter-widgets/controls",
      "model_module_version": "2.0.0",
      "model_name": "CheckboxModel",
      "state": {
       "description": "Municipalities",
       "disabled": false,
       "layout": "IPY_MODEL_83758492cba94193b108db271757883b",
       "style": "IPY_MODEL_5e181e834c524fb08ed801945a68ff02",
       "value": true
      }
     },
     "a387fb4844e1402c93c3af91fadc2b97": {
      "model_module": "@jupyter-widgets/controls",
      "model_module_version": "2.0.0",
      "model_name": "CheckboxStyleModel",
      "state": {
       "description_width": ""
      }
     },
     "a63ab46dbef747cfa9ec42e302d83d78": {
      "model_module": "@jupyter-widgets/controls",
      "model_module_version": "2.0.0",
      "model_name": "DescriptionStyleModel",
      "state": {
       "description_width": ""
      }
     },
     "a95f599f779c43f898eec5a36b03bf44": {
      "model_module": "@jupyter-widgets/controls",
      "model_module_version": "2.0.0",
      "model_name": "HTMLStyleModel",
      "state": {
       "description_width": "",
       "font_size": null,
       "text_color": null
      }
     },
     "abecfd28ed5447fe9e0a26541b9c598a": {
      "model_module": "@jupyter-widgets/controls",
      "model_module_version": "2.0.0",
      "model_name": "HTMLModel",
      "state": {
       "layout": "IPY_MODEL_b60467b138454398b3569de11941f69e",
       "style": "IPY_MODEL_bd9c0fb620614d13a690f5b27c3dd046",
       "value": "<h3 style='text-align:center;'>COVID-Dataset</h3>"
      }
     },
     "ae450254144c48b6b83adb25659abacd": {
      "model_module": "@jupyter-widgets/base",
      "model_module_version": "2.0.0",
      "model_name": "LayoutModel",
      "state": {}
     },
     "b232039c8fc247debf65def6da0a5ebf": {
      "model_module": "@jupyter-widgets/controls",
      "model_module_version": "2.0.0",
      "model_name": "DescriptionStyleModel",
      "state": {
       "description_width": ""
      }
     },
     "b414537e622f43f3923d0be04fa73705": {
      "model_module": "@jupyter-widgets/controls",
      "model_module_version": "2.0.0",
      "model_name": "CheckboxModel",
      "state": {
       "description": "Hospital admission",
       "disabled": false,
       "layout": "IPY_MODEL_bca70ed13f284afdb7bd4a393f0b9e21",
       "style": "IPY_MODEL_62424668797b443f8eedef24ee227453",
       "value": true
      }
     },
     "b4313ae337e84e2298ad030df6bd01bc": {
      "model_module": "@jupyter-widgets/base",
      "model_module_version": "2.0.0",
      "model_name": "LayoutModel",
      "state": {}
     },
     "b60467b138454398b3569de11941f69e": {
      "model_module": "@jupyter-widgets/base",
      "model_module_version": "2.0.0",
      "model_name": "LayoutModel",
      "state": {}
     },
     "b9427287eb0840fa9e36b456f270ff90": {
      "model_module": "@jupyter-widgets/controls",
      "model_module_version": "2.0.0",
      "model_name": "DropdownModel",
      "state": {
       "_options_labels": [
        "2020",
        "2021",
        "2022",
        "2023",
        "2024"
       ],
       "description": "Year:",
       "index": 0,
       "layout": "IPY_MODEL_feb88eed3b2f425cb14c74e7ff0a1e11",
       "style": "IPY_MODEL_eb21db9b47524b07bb2be426c64beea4"
      }
     },
     "bb65f72d3bfa4766822eaf76eb790832": {
      "model_module": "@jupyter-widgets/controls",
      "model_module_version": "2.0.0",
      "model_name": "DropdownModel",
      "state": {
       "_options_labels": [
        "Total reported",
        "Hospital admission",
        "Deceased"
       ],
       "description": "Metric:",
       "index": 1,
       "layout": "IPY_MODEL_e91a51c6efd5486591311d8f2c543842",
       "style": "IPY_MODEL_9b87d92ce1be49ddb8d642b0efa7d07d"
      }
     },
     "bca70ed13f284afdb7bd4a393f0b9e21": {
      "model_module": "@jupyter-widgets/base",
      "model_module_version": "2.0.0",
      "model_name": "LayoutModel",
      "state": {}
     },
     "bd9c0fb620614d13a690f5b27c3dd046": {
      "model_module": "@jupyter-widgets/controls",
      "model_module_version": "2.0.0",
      "model_name": "HTMLStyleModel",
      "state": {
       "description_width": "",
       "font_size": null,
       "text_color": null
      }
     },
     "c187f53e0f474f10b0407eaae7ee1573": {
      "model_module": "@jupyter-widgets/controls",
      "model_module_version": "2.0.0",
      "model_name": "TabModel",
      "state": {
       "children": [
        "IPY_MODEL_464d2d74166746739323f5467f6bf1e2",
        "IPY_MODEL_8498c259d5ad44939e3b4c8e120afbb5",
        "IPY_MODEL_730b0220b15d4b41b73d800dbed54d18"
       ],
       "layout": "IPY_MODEL_f5dbfa5050984a07957805d42053ba49",
       "selected_index": 1,
       "titles": [
        "Corona",
        "Heatmap",
        "Rioolwater"
       ]
      }
     },
     "d753dc1d67b44093a73e9506143dc579": {
      "model_module": "@jupyter-widgets/controls",
      "model_module_version": "2.0.0",
      "model_name": "CheckboxModel",
      "state": {
       "description": "Total reported",
       "disabled": false,
       "layout": "IPY_MODEL_b4313ae337e84e2298ad030df6bd01bc",
       "style": "IPY_MODEL_6deb0b0c84ff448dbda9b02251c56ed1",
       "value": true
      }
     },
     "df1be7803e554488bee4921ecaf85bc8": {
      "model_module": "@jupyter-widgets/base",
      "model_module_version": "2.0.0",
      "model_name": "LayoutModel",
      "state": {}
     },
     "e382a1e991074f0bab10fc532c319a9c": {
      "model_module": "@jupyter-widgets/base",
      "model_module_version": "2.0.0",
      "model_name": "LayoutModel",
      "state": {}
     },
     "e91a51c6efd5486591311d8f2c543842": {
      "model_module": "@jupyter-widgets/base",
      "model_module_version": "2.0.0",
      "model_name": "LayoutModel",
      "state": {}
     },
     "eb21db9b47524b07bb2be426c64beea4": {
      "model_module": "@jupyter-widgets/controls",
      "model_module_version": "2.0.0",
      "model_name": "DescriptionStyleModel",
      "state": {
       "description_width": ""
      }
     },
     "edaa8e01034a447d837698a4fd2d91a2": {
      "model_module": "@jupyter-widgets/base",
      "model_module_version": "2.0.0",
      "model_name": "LayoutModel",
      "state": {}
     },
     "f0ecd4ce11d844a9b27b45cb853c5d04": {
      "model_module": "@jupyter-widgets/base",
      "model_module_version": "2.0.0",
      "model_name": "LayoutModel",
      "state": {}
     },
     "f3a43559a13749328e01c94e3169b997": {
      "model_module": "@jupyter-widgets/base",
      "model_module_version": "2.0.0",
      "model_name": "LayoutModel",
      "state": {}
     },
     "f534c26ecd6e440faff445007ea2d566": {
      "model_module": "@jupyter-widgets/controls",
      "model_module_version": "2.0.0",
      "model_name": "VBoxModel",
      "state": {
       "children": [
        "IPY_MODEL_f6ca2d4832654c13a31125526878cb7e",
        "IPY_MODEL_3981d69230ec468d922c680da573ffdc",
        "IPY_MODEL_1fde734eca374a1aafd55fdc3467a205"
       ],
       "layout": "IPY_MODEL_f0ecd4ce11d844a9b27b45cb853c5d04"
      }
     },
     "f5dbfa5050984a07957805d42053ba49": {
      "model_module": "@jupyter-widgets/base",
      "model_module_version": "2.0.0",
      "model_name": "LayoutModel",
      "state": {}
     },
     "f6ca2d4832654c13a31125526878cb7e": {
      "model_module": "@jupyter-widgets/controls",
      "model_module_version": "2.0.0",
      "model_name": "HTMLModel",
      "state": {
       "layout": "IPY_MODEL_a071ff06a82e470ab421b6f74466f592",
       "style": "IPY_MODEL_12fe42c5fba64483857a39e1b08de96b",
       "value": "<h3 style='text-align:center;'>Heatmap Riool</h3>"
      }
     },
     "fb3fe22da8bb4f38b109089a859efd6f": {
      "model_module": "@jupyter-widgets/base",
      "model_module_version": "2.0.0",
      "model_name": "LayoutModel",
      "state": {}
     },
     "feb88eed3b2f425cb14c74e7ff0a1e11": {
      "model_module": "@jupyter-widgets/base",
      "model_module_version": "2.0.0",
      "model_name": "LayoutModel",
      "state": {}
     }
    },
    "version_major": 2,
    "version_minor": 0
   }
  }
 },
 "nbformat": 4,
 "nbformat_minor": 5
}
