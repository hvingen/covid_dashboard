{
 "cells": [
  {
   "cell_type": "markdown",
   "id": "8f110981",
   "metadata": {},
   "source": [
    "# 🧪 Debugnotebook – Testmodule v001a"
   ]
  },
  {
   "cell_type": "code",
   "execution_count": 1,
   "id": "f13b42c0",
   "metadata": {},
   "outputs": [
    {
     "name": "stdout",
     "output_type": "stream",
     "text": [
      "✅ Root toegevoegd aan sys.path\n",
      "✅ src toegevoegd aan sys.path\n"
     ]
    }
   ],
   "source": [
    "# 📦 Setup paths\n",
    "import sys\n",
    "from pathlib import Path\n",
    "\n",
    "project_root = Path().resolve().parent\n",
    "src_path = project_root / 'src'\n",
    "config_path = project_root / 'config.py'\n",
    "\n",
    "if config_path.exists() and str(project_root) not in sys.path:\n",
    "    sys.path.insert(0, str(project_root))\n",
    "    print('✅ Root toegevoegd aan sys.path')\n",
    "\n",
    "if src_path.exists() and str(src_path) not in sys.path:\n",
    "    sys.path.insert(0, str(src_path))\n",
    "    print('✅ src toegevoegd aan sys.path')\n"
   ]
  },
  {
   "cell_type": "code",
   "execution_count": 3,
   "id": "de086bbf",
   "metadata": {},
   "outputs": [
    {
     "name": "stdout",
     "output_type": "stream",
     "text": [
      "📁 EXPORT_FOLDER: notebooks/exports\n",
      "📁 CSV_FOLDER: data/csv\n",
      "📁 SHAPEFILE_FOLDER: data/shapefiles\n"
     ]
    }
   ],
   "source": [
    "# 🔧 Test config.py import\n",
    "from config import EXPORT_FOLDER, CSV_FOLDER, SHAPEFILE_FOLDER\n",
    "\n",
    "print('📁 EXPORT_FOLDER:', EXPORT_FOLDER)\n",
    "print('📁 CSV_FOLDER:', CSV_FOLDER)\n",
    "print('📁 SHAPEFILE_FOLDER:', SHAPEFILE_FOLDER)\n"
   ]
  },
  {
   "cell_type": "code",
   "execution_count": 4,
   "id": "e1259df8",
   "metadata": {},
   "outputs": [
    {
     "name": "stdout",
     "output_type": "stream",
     "text": [
      "⚠️ testmodule niet gevonden (verwacht bij lege src-map)\n"
     ]
    }
   ],
   "source": [
    "# 🧠 Test dummyfunctie uit src/ als die zou bestaan\n",
    "try:\n",
    "    from testmodule import dummy\n",
    "    print(dummy())\n",
    "except ImportError:\n",
    "    print('⚠️ testmodule niet gevonden (verwacht bij lege src-map)')\n"
   ]
  }
 ],
 "metadata": {
  "kernelspec": {
   "display_name": "Python 3 (ipykernel)",
   "language": "python",
   "name": "python3"
  },
  "language_info": {
   "codemirror_mode": {
    "name": "ipython",
    "version": 3
   },
   "file_extension": ".py",
   "mimetype": "text/x-python",
   "name": "python",
   "nbconvert_exporter": "python",
   "pygments_lexer": "ipython3",
   "version": "3.11.7"
  },
  "widgets": {
   "application/vnd.jupyter.widget-state+json": {
    "state": {},
    "version_major": 2,
    "version_minor": 0
   }
  }
 },
 "nbformat": 4,
 "nbformat_minor": 5
}
