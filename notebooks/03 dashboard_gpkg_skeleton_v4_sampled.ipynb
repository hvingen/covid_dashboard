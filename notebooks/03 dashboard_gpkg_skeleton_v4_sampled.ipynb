{
 "cells": [
  {
   "cell_type": "markdown",
   "id": "051502f2-03e1-426f-b2f7-e089eeee71cd",
   "metadata": {},
   "source": [
    "# 🧭 GeoDashboard Skeleton v4\n",
    "\n",
    "Interactieve verkenner voor GPKG-bestanden, met kaart, metadata en layerselectie."
   ]
  },
  {
   "cell_type": "code",
   "execution_count": 2,
   "id": "445f0b91",
   "metadata": {},
   "outputs": [
    {
     "name": "stdout",
     "output_type": "stream",
     "text": [
      "✅ geopandas geïnstalleerd\n",
      "✅ fiona geïnstalleerd\n",
      "✅ shapely geïnstalleerd\n",
      "✅ matplotlib geïnstalleerd\n"
     ]
    }
   ],
   "source": [
    "# 📦 Vereiste packages checken\n",
    "import importlib\n",
    "packages = ['geopandas', 'fiona', 'shapely', 'matplotlib']\n",
    "for pkg in packages:\n",
    "    try:\n",
    "        importlib.import_module(pkg)\n",
    "        print(f'✅ {pkg} geïnstalleerd')\n",
    "    except ImportError:\n",
    "        print(f'⚠️ {pkg} NIET geïnstalleerd')"
   ]
  },
  {
   "cell_type": "code",
   "execution_count": 3,
   "id": "24a8fbaf",
   "metadata": {},
   "outputs": [],
   "source": [
    "# 📂 Paden instellen + modules laden\n",
    "import os, sys\n",
    "from pathlib import Path\n",
    "\n",
    "project_root = Path.cwd()\n",
    "while not (project_root / 'config.py').exists() and project_root != project_root.parent:\n",
    "    project_root = project_root.parent\n",
    "sys.path.insert(0, project_root.as_posix())\n",
    "\n",
    "from config import SRC_DIR, SHAPEFILES_DIR\n",
    "if SRC_DIR.as_posix() not in sys.path:\n",
    "    sys.path.insert(0, SRC_DIR.as_posix())\n",
    "\n",
    "import geopandas as gpd\n",
    "import matplotlib.pyplot as plt\n",
    "from gpkg_service import list_gpkg_files, list_gpkg_layers, load_gpkg_layer"
   ]
  },
  {
   "cell_type": "code",
   "execution_count": 12,
   "id": "2ba63820",
   "metadata": {},
   "outputs": [
    {
     "data": {
      "application/vnd.jupyter.widget-view+json": {
       "model_id": "2dde5b993da24f4a910badb44b079e8b",
       "version_major": 2,
       "version_minor": 0
      },
      "text/plain": [
       "Dropdown(description='GPKG:', layout=Layout(width='400px'), options=(PosixPath('/Users/hvingen/Repositories/Op…"
      ]
     },
     "metadata": {},
     "output_type": "display_data"
    },
    {
     "data": {
      "application/vnd.jupyter.widget-view+json": {
       "model_id": "408c367fb49441bd88732b6d99700493",
       "version_major": 2,
       "version_minor": 0
      },
      "text/plain": [
       "Dropdown(description='Layer:', layout=Layout(width='400px'), options=('buurten', 'gemeenten', 'wijken'), value…"
      ]
     },
     "metadata": {},
     "output_type": "display_data"
    },
    {
     "data": {
      "application/vnd.jupyter.widget-view+json": {
       "model_id": "5269e5923d714cad84699ec6efd41dc2",
       "version_major": 2,
       "version_minor": 0
      },
      "text/plain": [
       "Output()"
      ]
     },
     "metadata": {},
     "output_type": "display_data"
    },
    {
     "data": {
      "application/vnd.jupyter.widget-view+json": {
       "model_id": "3495f356c2304460a5839c64d5ec22db",
       "version_major": 2,
       "version_minor": 0
      },
      "text/plain": [
       "Output()"
      ]
     },
     "metadata": {},
     "output_type": "display_data"
    }
   ],
   "source": [
    "# 🔽 Selectie widgets + interactiviteit\n",
    "from config import SHAPEFILES_DIR\n",
    "import ipywidgets as widgets\n",
    "from IPython.display import display, clear_output\n",
    "\n",
    "plot_output = widgets.Output()\n",
    "meta_output = widgets.Output()\n",
    "\n",
    "gpkg_selector = widgets.Dropdown(\n",
    "    options=list_gpkg_files(SHAPEFILES_DIR),\n",
    "    description='GPKG:',\n",
    "    layout=widgets.Layout(width='400px')\n",
    ")\n",
    "\n",
    "layer_selector = widgets.Dropdown(\n",
    "    options=[],\n",
    "    description='Layer:',\n",
    "    layout=widgets.Layout(width='400px')\n",
    ")\n",
    "\n",
    "def update_layers(change):\n",
    "    if gpkg_selector.value:\n",
    "        layer_selector.options = list_gpkg_layers(gpkg_selector.value)\n",
    "        if layer_selector.options:\n",
    "            layer_selector.value = layer_selector.options[0]\n",
    "\n",
    "def update_outputs(change):\n",
    "    plot_output.clear_output()\n",
    "    meta_output.clear_output()\n",
    "    with plot_output:\n",
    "        try:\n",
    "            gdf = load_gpkg_layer(gpkg_selector.value, layer_selector.value)\n",
    "            gdf.plot(figsize=(8, 8), edgecolor='black')\n",
    "            plt.title(f\"{gpkg_selector.value} – {layer_selector.value}\")\n",
    "            plt.axis('off')\n",
    "            plt.show()\n",
    "        except Exception as e:\n",
    "            print(\"Fout bij plotten:\", e)\n",
    "    with meta_output:\n",
    "        try:\n",
    "            print(f\"CRS: {gdf.crs}\")\n",
    "            print(f\"Aantal features: {len(gdf)}\")\n",
    "            print(f\"Kolommen: {list(gdf.columns)}\")\n",
    "            print(f\"Geometry type: {gdf.geom_type.unique()}\")\n",
    "            print(f\"Bounding box: {gdf.total_bounds}\")\n",
    "        except Exception as e:\n",
    "            print(\"Fout bij metadata:\", e)\n",
    "\n",
    "gpkg_selector.observe(update_layers, names='value')\n",
    "layer_selector.observe(update_outputs, names='value')\n",
    "update_layers(None)\n",
    "update_outputs(None)\n",
    "\n",
    "display(gpkg_selector, layer_selector)\n",
    "display(plot_output)\n",
    "display(meta_output)"
   ]
  },
  {
   "cell_type": "code",
   "execution_count": 5,
   "id": "4b96387e",
   "metadata": {},
   "outputs": [],
   "source": [
    "# 📊 Sampling dropdown toevoegen\n",
    "import ipywidgets as widgets\n",
    "sampling_dropdown = widgets.Dropdown(\n",
    "    options=[('10%', 0.10), ('25%', 0.25), ('50%', 0.50), ('100%', 1.0)],\n",
    "    value=1.0,\n",
    "    description='Sample %:',\n",
    "    style={'description_width': 'initial'},\n",
    "    layout=widgets.Layout(width='200px')\n",
    ")"
   ]
  },
  {
   "cell_type": "code",
   "execution_count": 6,
   "id": "2da9e8a1",
   "metadata": {},
   "outputs": [
    {
     "name": "stdout",
     "output_type": "stream",
     "text": [
      "⚠️ Geen geopandas dataframe geladen (gdf ontbreekt)\n"
     ]
    }
   ],
   "source": [
    "# 📉 Sample op basis van geselecteerde waarde\n",
    "if 'gdf' in locals():\n",
    "    sample_fraction = sampling_dropdown.value\n",
    "    sampled_gdf = gdf.sample(frac=sample_fraction, random_state=1).reset_index(drop=True)\n",
    "    display(sampled_gdf.head())\n",
    "else:\n",
    "    print('⚠️ Geen geopandas dataframe geladen (gdf ontbreekt)')"
   ]
  }
 ],
 "metadata": {
  "kernelspec": {
   "display_name": "Python 3 (ipykernel)",
   "language": "python",
   "name": "python3"
  },
  "language_info": {
   "codemirror_mode": {
    "name": "ipython",
    "version": 3
   },
   "file_extension": ".py",
   "mimetype": "text/x-python",
   "name": "python",
   "nbconvert_exporter": "python",
   "pygments_lexer": "ipython3",
   "version": "3.11.7"
  },
  "widgets": {
   "application/vnd.jupyter.widget-state+json": {
    "state": {},
    "version_major": 2,
    "version_minor": 0
   }
  }
 },
 "nbformat": 4,
 "nbformat_minor": 5
}
