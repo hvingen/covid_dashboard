{
 "cells": [
  {
   "cell_type": "code",
   "execution_count": 1,
   "id": "3e3aebbe-1c3a-431a-8f43-9a42ca75abe6",
   "metadata": {},
   "outputs": [
    {
     "name": "stdout",
     "output_type": "stream",
     "text": [
      "✅ PROJECT_ROOT toegevoegd aan sys.path\n"
     ]
    }
   ],
   "source": [
    "# 📦 Setup paths\n",
    "import sys\n",
    "from pathlib import Path\n",
    "\n",
    "project_root = Path().resolve().parent\n",
    "config_path = project_root / 'config.py'\n",
    "\n",
    "if config_path.exists() and str(project_root) not in sys.path:\n",
    "    sys.path.insert(0, str(project_root))\n",
    "    print('✅ PROJECT_ROOT toegevoegd aan sys.path')"
   ]
  },
  {
   "cell_type": "code",
   "execution_count": 2,
   "id": "8b162b40-9446-48cf-b966-39c5466eb7d3",
   "metadata": {},
   "outputs": [
    {
     "name": "stdout",
     "output_type": "stream",
     "text": [
      "✅ SRC_DIR is nu toegevoegd aan sys.path\n",
      "✅ NOTEBOOKS_DIR is nu toegevoegd aan sys.path\n",
      "✅ CSV_DIR is nu toegevoegd aan sys.path\n",
      "✅ SHAPEFILES_DIR is nu toegevoegd aan sys.path\n",
      "✅ EXPORTS_DIR is nu toegevoegd aan sys.path\n"
     ]
    }
   ],
   "source": [
    "from config import PROJECT_ROOT, SRC_DIR, NOTEBOOKS_DIR, CSV_DIR, SHAPEFILES_DIR, EXPORTS_DIR\n",
    "\n",
    "if PROJECT_ROOT.exists() and str(PROJECT_ROOT) not in sys.path:\n",
    "    sys.path.insert(0, str(PROJECT_ROOT))\n",
    "    print('✅ PROJECT_ROOT alsnog toegevoegd aan sys.path')\n",
    "\n",
    "if SRC_DIR.exists() and str(SRC_DIR) not in sys.path:\n",
    "    sys.path.insert(0, str(SRC_DIR))\n",
    "    print('✅ SRC_DIR is nu toegevoegd aan sys.path')\n",
    "\n",
    "if NOTEBOOKS_DIR.exists() and str(NOTEBOOKS_DIR) not in sys.path:\n",
    "    sys.path.insert(0, str(NOTEBOOKS_DIR))\n",
    "    print('✅ NOTEBOOKS_DIR is nu toegevoegd aan sys.path')\n",
    "\n",
    "if CSV_DIR.exists() and str(CSV_DIR) not in sys.path:\n",
    "    sys.path.insert(0, str(CSV_DIR))\n",
    "    print('✅ CSV_DIR is nu toegevoegd aan sys.path')\n",
    "\n",
    "if SHAPEFILES_DIR.exists() and str(SHAPEFILES_DIR) not in sys.path:\n",
    "    sys.path.insert(0, str(SHAPEFILES_DIR))\n",
    "    print('✅ SHAPEFILES_DIR is nu toegevoegd aan sys.path')\n",
    "\n",
    "if EXPORTS_DIR.exists() and str(EXPORTS_DIR) not in sys.path:\n",
    "    sys.path.insert(0, str(EXPORTS_DIR))\n",
    "    print('✅ EXPORTS_DIR is nu toegevoegd aan sys.path')"
   ]
  },
  {
   "cell_type": "code",
   "execution_count": 3,
   "id": "cf8adb9e",
   "metadata": {},
   "outputs": [],
   "source": [
    "import config\n",
    "import geopandas as gpd\n",
    "import pandas as pd\n",
    "import matplotlib.pyplot as plt\n",
    "import numpy as np\n",
    "import ipywidgets as widgets\n",
    "from IPython.display import display\n",
    "from datetime import datetime\n",
    "import csv\n",
    "import os\n",
    "\n",
    "from data_service import get_metric_mapping, get_available_years, get_municipality_heatmap_data, get_province_heatmap_data, get_prepared_covid_dataset\n",
    "\n",
    "# EXPORT_DIR = Path.cwd() / '/notebooks/exports'\n",
    "# EXPORT_DIR.mkdir(parents=True, exist_ok=True)"
   ]
  },
  {
   "cell_type": "code",
   "execution_count": 4,
   "id": "f10d9ccf",
   "metadata": {},
   "outputs": [],
   "source": [
    "def plot_heatmap_scaled(gdf, column, title=\"\", vmin=None, vmax=None, unit=\"\", export=False, filename=None):\n",
    "    fig, ax = plt.subplots(figsize=(10, 10))\n",
    "    gdf.plot(column=column, ax=ax, legend=True, edgecolor='white', linewidth=0.2,\n",
    "             vmin=vmin, vmax=vmax)\n",
    "    ax.set_title(title, fontsize=14)\n",
    "    ax.axis(\"off\")\n",
    "    ax.annotate('N', xy=(0.86, 0.12), xytext=(0.86, 0.05),\n",
    "                arrowprops=dict(facecolor='black', width=5, headwidth=15),\n",
    "                ha='center', va='center', fontsize=12, xycoords=ax.transAxes)\n",
    "    cbar = fig.axes[-1]\n",
    "    cbar.set_ylabel(unit, rotation=90, labelpad=15)\n",
    "    if export and filename:\n",
    "        filepath = EXPORTS_DIR / filename\n",
    "        plt.savefig(filepath, dpi=300, bbox_inches=\"tight\")\n",
    "        print(f\"✅ PNG exported to: {filepath}\")\n",
    "        log_export(\"Export heatmap as PNG\", filename)\n",
    "    plt.show()\n",
    "\n",
    "def log_export(export_type, filename):\n",
    "    now = datetime.now().strftime(\"%Y-%m-%d %H:%M:%S\")\n",
    "    with LOG_FILE.open(\"a\", newline=\"\") as f:\n",
    "        csv.writer(f).writerow([now, export_type, filename])\n"
   ]
  },
  {
   "cell_type": "code",
   "execution_count": 5,
   "id": "2f435b3d",
   "metadata": {},
   "outputs": [],
   "source": [
    "df = get_prepared_covid_dataset()\n",
    "year_options = get_available_years(df)\n",
    "metric_mapping = get_metric_mapping()\n",
    "metric_options = list(metric_mapping.keys())\n",
    "\n",
    "year_dropdown = widgets.Dropdown(options=year_options, value=year_options[-1], description=\"Year:\",\n",
    "                                 layout=widgets.Layout(width=\"310px\"))\n",
    "metric_dropdown = widgets.Dropdown(options=metric_options, value=metric_options[0], description=\"Metric:\",\n",
    "                                   layout=widgets.Layout(width=\"310px\"))\n",
    "region_dropdown = widgets.Dropdown(options=[\"Provinces\", \"Municipalities\"], value=\"Provinces\", description=\"Level:\",\n",
    "                                   layout=widgets.Layout(width=\"310px\"))\n",
    "\n",
    "# Scale units\n",
    "unit_label = \"Cases/100K\"\n",
    "\n",
    "# Gebruik max van een relevante kolom om schaal te bepalen\n",
    "sample_df = get_municipality_heatmap_data(year_options[-1])\n",
    "sample_max = int(np.ceil(sample_df[metric_mapping[metric_options[0]]].max() / 100.0)) * 100\n",
    "scale_options = [int(sample_max * r) for r in [0.2, 0.4, 0.6, 0.8, 1.0]]\n",
    "\n",
    "scale_dropdown = widgets.Dropdown(\n",
    "    options=[f\"{val} {unit_label}\" for val in scale_options],\n",
    "    value=f\"{scale_options[-1]} {unit_label}\",\n",
    "    description=\"Scale max:\",\n",
    "    layout=widgets.Layout(width=\"310px\")\n",
    ")\n",
    "\n",
    "export_dropdown = widgets.Dropdown(\n",
    "    options=[\"Export as CSV\", \"Export as Markdown\", \"Export as PDF\", \"Export heatmap as PNG\"],\n",
    "    description=\"File:\",\n",
    "    layout=widgets.Layout(width=\"300px\")\n",
    ")\n",
    "\n",
    "export_button = widgets.Button(description=\"Go\", button_style=\"success\", icon=\"download\",\n",
    "                               layout=widgets.Layout(width=\"70px\"))\n",
    "\n",
    "title_widget = widgets.HTML(\"<h3 style='text-align:left;'>Heatmap – Regional COVID Data</h3>\")\n",
    "plot_output = widgets.Output()\n",
    "\n",
    "left_column = widgets.VBox([\n",
    "    year_dropdown,\n",
    "    metric_dropdown,\n",
    "    region_dropdown,\n",
    "    scale_dropdown,\n",
    "    widgets.HBox([export_dropdown, export_button])\n",
    "], layout=widgets.Layout(width=\"320px\", justify_content='flex-start'))"
   ]
  },
  {
   "cell_type": "code",
   "execution_count": 6,
   "id": "1d0919e1",
   "metadata": {},
   "outputs": [],
   "source": [
    "def get_scale_value(scale_dropdown):\n",
    "    return int(scale_dropdown.value.split()[0])\n",
    "\n",
    "def update_scale_options():\n",
    "    year = year_dropdown.value\n",
    "    metric_key = metric_dropdown.value\n",
    "    metric_col = metric_mapping[metric_key]\n",
    "    region = region_dropdown.value\n",
    "    gdf = get_province_heatmap_data(year) if region == \"Provinces\" else get_municipality_heatmap_data(year)\n",
    "    data_max = gdf[metric_col].max()\n",
    "    if pd.isnull(data_max):\n",
    "        data_max = 1  # fallback\n",
    "    base = int(np.ceil(data_max / 100.0)) * 100\n",
    "    values = [int(base * r) for r in [0.2, 0.4, 0.6, 0.8, 1.0]]\n",
    "    scale_dropdown.options = [f\"{v} {unit_label}\" for v in values]\n",
    "    scale_dropdown.value = f\"{values[-1]} {unit_label}\"\n"
   ]
  },
  {
   "cell_type": "code",
   "execution_count": 7,
   "id": "6d549e13",
   "metadata": {},
   "outputs": [
    {
     "data": {
      "application/vnd.jupyter.widget-view+json": {
       "model_id": "214afc912f2a408db6b6a5f011bd861d",
       "version_major": 2,
       "version_minor": 0
      },
      "text/plain": [
       "VBox(children=(HTML(value=\"<h3 style='text-align:left;'>Heatmap – Regional COVID Data</h3>\"), HBox(children=(V…"
      ]
     },
     "metadata": {},
     "output_type": "display_data"
    }
   ],
   "source": [
    "def update_plot(change=None):\n",
    "    update_scale_options()\n",
    "    plot_output.clear_output()\n",
    "    with plot_output:\n",
    "        year = year_dropdown.value\n",
    "        metric_key = metric_dropdown.value\n",
    "        metric = metric_mapping[metric_key]\n",
    "        region = region_dropdown.value\n",
    "        gdf = get_province_heatmap_data(year) if region == \"Provinces\" else get_municipality_heatmap_data(year)\n",
    "        vmax = get_scale_value(scale_dropdown)\n",
    "        plot_heatmap_scaled(gdf, metric, f\"Heatmap – {region}\", vmin=0, vmax=vmax, unit=unit_label)\n",
    "\n",
    "region_dropdown.observe(update_plot, names='value')\n",
    "year_dropdown.observe(update_plot, names='value')\n",
    "metric_dropdown.observe(update_plot, names='value')\n",
    "scale_dropdown.observe(update_plot, names='value')\n",
    "update_plot()\n",
    "\n",
    "ui_layout = widgets.HBox([\n",
    "    left_column,\n",
    "    plot_output\n",
    "], layout=widgets.Layout(justify_content='flex-start', align_items='flex-start', width='100%', padding='10px'))\n",
    "\n",
    "display(widgets.VBox([title_widget, ui_layout], layout=widgets.Layout(width='100%', overflow='hidden')))"
   ]
  },
  {
   "cell_type": "code",
   "execution_count": null,
   "id": "6bc28164-5a33-4fbd-bf0f-9f4ce60c756a",
   "metadata": {},
   "outputs": [],
   "source": []
  }
 ],
 "metadata": {
  "kernelspec": {
   "display_name": "Python 3 (ipykernel)",
   "language": "python",
   "name": "python3"
  },
  "language_info": {
   "codemirror_mode": {
    "name": "ipython",
    "version": 3
   },
   "file_extension": ".py",
   "mimetype": "text/x-python",
   "name": "python",
   "nbconvert_exporter": "python",
   "pygments_lexer": "ipython3",
   "version": "3.12.2"
  },
  "widgets": {
   "application/vnd.jupyter.widget-state+json": {
    "state": {
     "1f7094a81cbf45c2bdce7488f892bcae": {
      "model_module": "@jupyter-widgets/base",
      "model_module_version": "2.0.0",
      "model_name": "LayoutModel",
      "state": {}
     },
     "214afc912f2a408db6b6a5f011bd861d": {
      "model_module": "@jupyter-widgets/controls",
      "model_module_version": "2.0.0",
      "model_name": "VBoxModel",
      "state": {
       "children": [
        "IPY_MODEL_ea0654dcd64f47d4858a7155d6051fe5",
        "IPY_MODEL_3dd41b9cf4e24c9f8a30b9ff43ed9853"
       ],
       "layout": "IPY_MODEL_3877dc675e2646b88dee674e284e9c7b"
      }
     },
     "24b1be10d98145a58f28ff4f065154af": {
      "model_module": "@jupyter-widgets/base",
      "model_module_version": "2.0.0",
      "model_name": "LayoutModel",
      "state": {
       "width": "310px"
      }
     },
     "25d37780a691410da936c910001ee677": {
      "model_module": "@jupyter-widgets/output",
      "model_module_version": "1.0.0",
      "model_name": "OutputModel",
      "state": {
       "layout": "IPY_MODEL_68dc85c038754bb49fee1fa5c9ac5ea6",
       "outputs": [
        {
         "data": {
          "image/png": "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",
          "text/plain": "<Figure size 1000x1000 with 2 Axes>"
         },
         "metadata": {},
         "output_type": "display_data"
        }
       ]
      }
     },
     "2f45d10045f442d69128c77e9f6f8712": {
      "model_module": "@jupyter-widgets/controls",
      "model_module_version": "2.0.0",
      "model_name": "HBoxModel",
      "state": {
       "children": [
        "IPY_MODEL_83ed349d48d44dcb868799212cd4ea71",
        "IPY_MODEL_6725f63823da4d808238bd72d9be9d64"
       ],
       "layout": "IPY_MODEL_1f7094a81cbf45c2bdce7488f892bcae"
      }
     },
     "3877dc675e2646b88dee674e284e9c7b": {
      "model_module": "@jupyter-widgets/base",
      "model_module_version": "2.0.0",
      "model_name": "LayoutModel",
      "state": {
       "overflow": "hidden",
       "width": "100%"
      }
     },
     "3b1ec06210914e18a885a38f6a4cbf97": {
      "model_module": "@jupyter-widgets/controls",
      "model_module_version": "2.0.0",
      "model_name": "DescriptionStyleModel",
      "state": {
       "description_width": ""
      }
     },
     "3dd41b9cf4e24c9f8a30b9ff43ed9853": {
      "model_module": "@jupyter-widgets/controls",
      "model_module_version": "2.0.0",
      "model_name": "HBoxModel",
      "state": {
       "children": [
        "IPY_MODEL_9e51e9fb26f843ebabd4da96ca9feebd",
        "IPY_MODEL_25d37780a691410da936c910001ee677"
       ],
       "layout": "IPY_MODEL_de7968b6b48e4b4593dfed147d0186b7"
      }
     },
     "3e7d6f24024a4f6b9e42892a4a2fc3d6": {
      "model_module": "@jupyter-widgets/base",
      "model_module_version": "2.0.0",
      "model_name": "LayoutModel",
      "state": {
       "width": "310px"
      }
     },
     "41abdfc59c4f4172aa670a7162edff9d": {
      "model_module": "@jupyter-widgets/base",
      "model_module_version": "2.0.0",
      "model_name": "LayoutModel",
      "state": {}
     },
     "4a58df8249184835ac0b138b57d3b5d9": {
      "model_module": "@jupyter-widgets/controls",
      "model_module_version": "2.0.0",
      "model_name": "ButtonStyleModel",
      "state": {
       "font_family": null,
       "font_size": null,
       "font_style": null,
       "font_variant": null,
       "font_weight": null,
       "text_color": null,
       "text_decoration": null
      }
     },
     "55cb9979700549ed90adbea089aeb52e": {
      "model_module": "@jupyter-widgets/controls",
      "model_module_version": "2.0.0",
      "model_name": "DescriptionStyleModel",
      "state": {
       "description_width": ""
      }
     },
     "5676fa54520e4998a75ad59a209167d5": {
      "model_module": "@jupyter-widgets/controls",
      "model_module_version": "2.0.0",
      "model_name": "DropdownModel",
      "state": {
       "_options_labels": [
        "2020",
        "2021",
        "2022",
        "2023",
        "2024"
       ],
       "description": "Year:",
       "index": 4,
       "layout": "IPY_MODEL_f6944c11057543a88162781c69e151ae",
       "style": "IPY_MODEL_86515cf9240f49c8875ba469fdda132b"
      }
     },
     "616aa5a824bc48d6960383272b0615b7": {
      "model_module": "@jupyter-widgets/base",
      "model_module_version": "2.0.0",
      "model_name": "LayoutModel",
      "state": {
       "width": "300px"
      }
     },
     "64f28a919ca64a13a81f471f956fa1af": {
      "model_module": "@jupyter-widgets/controls",
      "model_module_version": "2.0.0",
      "model_name": "DropdownModel",
      "state": {
       "_options_labels": [
        "0 Cases/100K",
        "0 Cases/100K",
        "0 Cases/100K",
        "0 Cases/100K",
        "0 Cases/100K"
       ],
       "description": "Scale max:",
       "index": 0,
       "layout": "IPY_MODEL_3e7d6f24024a4f6b9e42892a4a2fc3d6",
       "style": "IPY_MODEL_55cb9979700549ed90adbea089aeb52e"
      }
     },
     "6725f63823da4d808238bd72d9be9d64": {
      "model_module": "@jupyter-widgets/controls",
      "model_module_version": "2.0.0",
      "model_name": "ButtonModel",
      "state": {
       "button_style": "success",
       "description": "Go",
       "icon": "download",
       "layout": "IPY_MODEL_a9467bca89c943ba9e04cd64665890ed",
       "style": "IPY_MODEL_4a58df8249184835ac0b138b57d3b5d9",
       "tooltip": null
      }
     },
     "68dc85c038754bb49fee1fa5c9ac5ea6": {
      "model_module": "@jupyter-widgets/base",
      "model_module_version": "2.0.0",
      "model_name": "LayoutModel",
      "state": {}
     },
     "754d8de49b6343818c865fcb0033a4dd": {
      "model_module": "@jupyter-widgets/controls",
      "model_module_version": "2.0.0",
      "model_name": "DescriptionStyleModel",
      "state": {
       "description_width": ""
      }
     },
     "83ed349d48d44dcb868799212cd4ea71": {
      "model_module": "@jupyter-widgets/controls",
      "model_module_version": "2.0.0",
      "model_name": "DropdownModel",
      "state": {
       "_options_labels": [
        "Export as CSV",
        "Export as Markdown",
        "Export as PDF",
        "Export heatmap as PNG"
       ],
       "description": "File:",
       "index": 0,
       "layout": "IPY_MODEL_616aa5a824bc48d6960383272b0615b7",
       "style": "IPY_MODEL_754d8de49b6343818c865fcb0033a4dd"
      }
     },
     "86515cf9240f49c8875ba469fdda132b": {
      "model_module": "@jupyter-widgets/controls",
      "model_module_version": "2.0.0",
      "model_name": "DescriptionStyleModel",
      "state": {
       "description_width": ""
      }
     },
     "8a7a9281677d411396063fd1dac7be3e": {
      "model_module": "@jupyter-widgets/base",
      "model_module_version": "2.0.0",
      "model_name": "LayoutModel",
      "state": {
       "justify_content": "flex-start",
       "width": "320px"
      }
     },
     "9e51e9fb26f843ebabd4da96ca9feebd": {
      "model_module": "@jupyter-widgets/controls",
      "model_module_version": "2.0.0",
      "model_name": "VBoxModel",
      "state": {
       "children": [
        "IPY_MODEL_5676fa54520e4998a75ad59a209167d5",
        "IPY_MODEL_be8380eec75d4fa782278b8dd4feb1a6",
        "IPY_MODEL_c6be3975100d4463918362ce844f3cb7",
        "IPY_MODEL_64f28a919ca64a13a81f471f956fa1af",
        "IPY_MODEL_2f45d10045f442d69128c77e9f6f8712"
       ],
       "layout": "IPY_MODEL_8a7a9281677d411396063fd1dac7be3e"
      }
     },
     "9fca72925d4949cbb58f38f7cf9bb754": {
      "model_module": "@jupyter-widgets/controls",
      "model_module_version": "2.0.0",
      "model_name": "DescriptionStyleModel",
      "state": {
       "description_width": ""
      }
     },
     "a9467bca89c943ba9e04cd64665890ed": {
      "model_module": "@jupyter-widgets/base",
      "model_module_version": "2.0.0",
      "model_name": "LayoutModel",
      "state": {
       "width": "70px"
      }
     },
     "b42700ee2add4d0189bf5bbf153207cf": {
      "model_module": "@jupyter-widgets/base",
      "model_module_version": "2.0.0",
      "model_name": "LayoutModel",
      "state": {
       "width": "310px"
      }
     },
     "bace89642019497fab874f93dfa09bee": {
      "model_module": "@jupyter-widgets/controls",
      "model_module_version": "2.0.0",
      "model_name": "HTMLStyleModel",
      "state": {
       "description_width": "",
       "font_size": null,
       "text_color": null
      }
     },
     "be8380eec75d4fa782278b8dd4feb1a6": {
      "model_module": "@jupyter-widgets/controls",
      "model_module_version": "2.0.0",
      "model_name": "DropdownModel",
      "state": {
       "_options_labels": [
        "Total reported",
        "Hospital admission",
        "Deceased"
       ],
       "description": "Metric:",
       "index": 0,
       "layout": "IPY_MODEL_24b1be10d98145a58f28ff4f065154af",
       "style": "IPY_MODEL_3b1ec06210914e18a885a38f6a4cbf97"
      }
     },
     "c6be3975100d4463918362ce844f3cb7": {
      "model_module": "@jupyter-widgets/controls",
      "model_module_version": "2.0.0",
      "model_name": "DropdownModel",
      "state": {
       "_options_labels": [
        "Provinces",
        "Municipalities"
       ],
       "description": "Level:",
       "index": 0,
       "layout": "IPY_MODEL_b42700ee2add4d0189bf5bbf153207cf",
       "style": "IPY_MODEL_9fca72925d4949cbb58f38f7cf9bb754"
      }
     },
     "de7968b6b48e4b4593dfed147d0186b7": {
      "model_module": "@jupyter-widgets/base",
      "model_module_version": "2.0.0",
      "model_name": "LayoutModel",
      "state": {
       "align_items": "flex-start",
       "justify_content": "flex-start",
       "padding": "10px",
       "width": "100%"
      }
     },
     "ea0654dcd64f47d4858a7155d6051fe5": {
      "model_module": "@jupyter-widgets/controls",
      "model_module_version": "2.0.0",
      "model_name": "HTMLModel",
      "state": {
       "layout": "IPY_MODEL_41abdfc59c4f4172aa670a7162edff9d",
       "style": "IPY_MODEL_bace89642019497fab874f93dfa09bee",
       "value": "<h3 style='text-align:left;'>Heatmap – Regional COVID Data</h3>"
      }
     },
     "f6944c11057543a88162781c69e151ae": {
      "model_module": "@jupyter-widgets/base",
      "model_module_version": "2.0.0",
      "model_name": "LayoutModel",
      "state": {
       "width": "310px"
      }
     }
    },
    "version_major": 2,
    "version_minor": 0
   }
  }
 },
 "nbformat": 4,
 "nbformat_minor": 5
}
